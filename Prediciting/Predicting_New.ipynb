{
 "cells": [
  {
   "cell_type": "code",
   "execution_count": 0,
   "metadata": {
    "application/vnd.databricks.v1+cell": {
     "cellMetadata": {
      "byteLimit": 2048000,
      "rowLimit": 10000
     },
     "inputWidgets": {},
     "nuid": "78644f63-a313-4865-91af-2c794e33f7b9",
     "showTitle": false,
     "title": ""
    },
    "jupyter": {
     "outputs_hidden": true
    }
   },
   "outputs": [
    {
     "output_type": "stream",
     "name": "stdout",
     "output_type": "stream",
     "text": [
      "Python interpreter will be restarted.\nRequirement already satisfied: pinecone-client in /local_disk0/.ephemeral_nfs/envs/pythonEnv-03f64a74-967e-4d0a-a662-4627a8f83a79/lib/python3.9/site-packages (4.1.1)\nRequirement already satisfied: urllib3>=1.26.0 in /databricks/python3/lib/python3.9/site-packages (from pinecone-client) (1.26.9)\nRequirement already satisfied: tqdm>=4.64.1 in /local_disk0/.ephemeral_nfs/envs/pythonEnv-03f64a74-967e-4d0a-a662-4627a8f83a79/lib/python3.9/site-packages (from pinecone-client) (4.66.4)\nRequirement already satisfied: pinecone-plugin-interface<0.0.8,>=0.0.7 in /local_disk0/.ephemeral_nfs/envs/pythonEnv-03f64a74-967e-4d0a-a662-4627a8f83a79/lib/python3.9/site-packages (from pinecone-client) (0.0.7)\nRequirement already satisfied: typing-extensions>=3.7.4 in /local_disk0/.ephemeral_nfs/envs/pythonEnv-03f64a74-967e-4d0a-a662-4627a8f83a79/lib/python3.9/site-packages (from pinecone-client) (4.12.2)\nRequirement already satisfied: certifi>=2019.11.17 in /databricks/python3/lib/python3.9/site-packages (from pinecone-client) (2021.10.8)\nPython interpreter will be restarted.\n"
     ]
    }
   ],
   "source": [
    "\n",
    "pip install pinecone-client"
   ]
  },
  {
   "cell_type": "code",
   "execution_count": 0,
   "metadata": {
    "application/vnd.databricks.v1+cell": {
     "cellMetadata": {
      "byteLimit": 2048000,
      "rowLimit": 10000
     },
     "inputWidgets": {},
     "nuid": "4b2f9cc9-8c37-4df8-aa83-bb9e378bed8b",
     "showTitle": false,
     "title": ""
    },
    "jupyter": {
     "outputs_hidden": true
    }
   },
   "outputs": [
    {
     "output_type": "stream",
     "name": "stdout",
     "output_type": "stream",
     "text": [
      "Python interpreter will be restarted.\nRequirement already satisfied: sentence_transformers in /local_disk0/.ephemeral_nfs/envs/pythonEnv-03f64a74-967e-4d0a-a662-4627a8f83a79/lib/python3.9/site-packages (3.0.1)\nRequirement already satisfied: torch>=1.11.0 in /local_disk0/.ephemeral_nfs/envs/pythonEnv-03f64a74-967e-4d0a-a662-4627a8f83a79/lib/python3.9/site-packages (from sentence_transformers) (2.3.1)\nRequirement already satisfied: numpy in /databricks/python3/lib/python3.9/site-packages (from sentence_transformers) (1.21.5)\nRequirement already satisfied: scipy in /databricks/python3/lib/python3.9/site-packages (from sentence_transformers) (1.7.3)\nRequirement already satisfied: huggingface-hub>=0.15.1 in /local_disk0/.ephemeral_nfs/envs/pythonEnv-03f64a74-967e-4d0a-a662-4627a8f83a79/lib/python3.9/site-packages (from sentence_transformers) (0.23.3)\nRequirement already satisfied: Pillow in /databricks/python3/lib/python3.9/site-packages (from sentence_transformers) (9.0.1)\nRequirement already satisfied: scikit-learn in /databricks/python3/lib/python3.9/site-packages (from sentence_transformers) (1.0.2)\nRequirement already satisfied: transformers<5.0.0,>=4.34.0 in /local_disk0/.ephemeral_nfs/envs/pythonEnv-03f64a74-967e-4d0a-a662-4627a8f83a79/lib/python3.9/site-packages (from sentence_transformers) (4.41.2)\nRequirement already satisfied: tqdm in /local_disk0/.ephemeral_nfs/envs/pythonEnv-03f64a74-967e-4d0a-a662-4627a8f83a79/lib/python3.9/site-packages (from sentence_transformers) (4.66.4)\nRequirement already satisfied: pyyaml>=5.1 in /local_disk0/.ephemeral_nfs/envs/pythonEnv-03f64a74-967e-4d0a-a662-4627a8f83a79/lib/python3.9/site-packages (from huggingface-hub>=0.15.1->sentence_transformers) (6.0.1)\nRequirement already satisfied: typing-extensions>=3.7.4.3 in /local_disk0/.ephemeral_nfs/envs/pythonEnv-03f64a74-967e-4d0a-a662-4627a8f83a79/lib/python3.9/site-packages (from huggingface-hub>=0.15.1->sentence_transformers) (4.12.2)\nRequirement already satisfied: filelock in /usr/local/lib/python3.9/dist-packages (from huggingface-hub>=0.15.1->sentence_transformers) (3.9.0)\nRequirement already satisfied: fsspec>=2023.5.0 in /local_disk0/.ephemeral_nfs/envs/pythonEnv-03f64a74-967e-4d0a-a662-4627a8f83a79/lib/python3.9/site-packages (from huggingface-hub>=0.15.1->sentence_transformers) (2024.6.0)\nRequirement already satisfied: packaging>=20.9 in /databricks/python3/lib/python3.9/site-packages (from huggingface-hub>=0.15.1->sentence_transformers) (21.3)\nRequirement already satisfied: requests in /databricks/python3/lib/python3.9/site-packages (from huggingface-hub>=0.15.1->sentence_transformers) (2.27.1)\nRequirement already satisfied: pyparsing!=3.0.5,>=2.0.2 in /databricks/python3/lib/python3.9/site-packages (from packaging>=20.9->huggingface-hub>=0.15.1->sentence_transformers) (3.0.4)\nRequirement already satisfied: nvidia-cuda-nvrtc-cu12==12.1.105 in /local_disk0/.ephemeral_nfs/envs/pythonEnv-03f64a74-967e-4d0a-a662-4627a8f83a79/lib/python3.9/site-packages (from torch>=1.11.0->sentence_transformers) (12.1.105)\nRequirement already satisfied: nvidia-cudnn-cu12==8.9.2.26 in /local_disk0/.ephemeral_nfs/envs/pythonEnv-03f64a74-967e-4d0a-a662-4627a8f83a79/lib/python3.9/site-packages (from torch>=1.11.0->sentence_transformers) (8.9.2.26)\nRequirement already satisfied: nvidia-nvtx-cu12==12.1.105 in /local_disk0/.ephemeral_nfs/envs/pythonEnv-03f64a74-967e-4d0a-a662-4627a8f83a79/lib/python3.9/site-packages (from torch>=1.11.0->sentence_transformers) (12.1.105)\nRequirement already satisfied: jinja2 in /databricks/python3/lib/python3.9/site-packages (from torch>=1.11.0->sentence_transformers) (2.11.3)\nRequirement already satisfied: nvidia-cusparse-cu12==12.1.0.106 in /local_disk0/.ephemeral_nfs/envs/pythonEnv-03f64a74-967e-4d0a-a662-4627a8f83a79/lib/python3.9/site-packages (from torch>=1.11.0->sentence_transformers) (12.1.0.106)\nRequirement already satisfied: nvidia-cublas-cu12==12.1.3.1 in /local_disk0/.ephemeral_nfs/envs/pythonEnv-03f64a74-967e-4d0a-a662-4627a8f83a79/lib/python3.9/site-packages (from torch>=1.11.0->sentence_transformers) (12.1.3.1)\nRequirement already satisfied: nvidia-cufft-cu12==11.0.2.54 in /local_disk0/.ephemeral_nfs/envs/pythonEnv-03f64a74-967e-4d0a-a662-4627a8f83a79/lib/python3.9/site-packages (from torch>=1.11.0->sentence_transformers) (11.0.2.54)\nRequirement already satisfied: nvidia-cuda-cupti-cu12==12.1.105 in /local_disk0/.ephemeral_nfs/envs/pythonEnv-03f64a74-967e-4d0a-a662-4627a8f83a79/lib/python3.9/site-packages (from torch>=1.11.0->sentence_transformers) (12.1.105)\nRequirement already satisfied: sympy in /local_disk0/.ephemeral_nfs/envs/pythonEnv-03f64a74-967e-4d0a-a662-4627a8f83a79/lib/python3.9/site-packages (from torch>=1.11.0->sentence_transformers) (1.12.1)\nRequirement already satisfied: nvidia-nccl-cu12==2.20.5 in /local_disk0/.ephemeral_nfs/envs/pythonEnv-03f64a74-967e-4d0a-a662-4627a8f83a79/lib/python3.9/site-packages (from torch>=1.11.0->sentence_transformers) (2.20.5)\nRequirement already satisfied: networkx in /local_disk0/.ephemeral_nfs/envs/pythonEnv-03f64a74-967e-4d0a-a662-4627a8f83a79/lib/python3.9/site-packages (from torch>=1.11.0->sentence_transformers) (3.2.1)\nRequirement already satisfied: nvidia-cusolver-cu12==11.4.5.107 in /local_disk0/.ephemeral_nfs/envs/pythonEnv-03f64a74-967e-4d0a-a662-4627a8f83a79/lib/python3.9/site-packages (from torch>=1.11.0->sentence_transformers) (11.4.5.107)\nRequirement already satisfied: nvidia-curand-cu12==10.3.2.106 in /local_disk0/.ephemeral_nfs/envs/pythonEnv-03f64a74-967e-4d0a-a662-4627a8f83a79/lib/python3.9/site-packages (from torch>=1.11.0->sentence_transformers) (10.3.2.106)\nRequirement already satisfied: nvidia-cuda-runtime-cu12==12.1.105 in /local_disk0/.ephemeral_nfs/envs/pythonEnv-03f64a74-967e-4d0a-a662-4627a8f83a79/lib/python3.9/site-packages (from torch>=1.11.0->sentence_transformers) (12.1.105)\nRequirement already satisfied: triton==2.3.1 in /local_disk0/.ephemeral_nfs/envs/pythonEnv-03f64a74-967e-4d0a-a662-4627a8f83a79/lib/python3.9/site-packages (from torch>=1.11.0->sentence_transformers) (2.3.1)\nRequirement already satisfied: nvidia-nvjitlink-cu12 in /local_disk0/.ephemeral_nfs/envs/pythonEnv-03f64a74-967e-4d0a-a662-4627a8f83a79/lib/python3.9/site-packages (from nvidia-cusolver-cu12==11.4.5.107->torch>=1.11.0->sentence_transformers) (12.5.40)\nRequirement already satisfied: tokenizers<0.20,>=0.19 in /local_disk0/.ephemeral_nfs/envs/pythonEnv-03f64a74-967e-4d0a-a662-4627a8f83a79/lib/python3.9/site-packages (from transformers<5.0.0,>=4.34.0->sentence_transformers) (0.19.1)\nRequirement already satisfied: regex!=2019.12.17 in /local_disk0/.ephemeral_nfs/envs/pythonEnv-03f64a74-967e-4d0a-a662-4627a8f83a79/lib/python3.9/site-packages (from transformers<5.0.0,>=4.34.0->sentence_transformers) (2024.5.15)\nRequirement already satisfied: safetensors>=0.4.1 in /local_disk0/.ephemeral_nfs/envs/pythonEnv-03f64a74-967e-4d0a-a662-4627a8f83a79/lib/python3.9/site-packages (from transformers<5.0.0,>=4.34.0->sentence_transformers) (0.4.3)\nRequirement already satisfied: MarkupSafe>=0.23 in /databricks/python3/lib/python3.9/site-packages (from jinja2->torch>=1.11.0->sentence_transformers) (2.0.1)\nRequirement already satisfied: idna<4,>=2.5 in /databricks/python3/lib/python3.9/site-packages (from requests->huggingface-hub>=0.15.1->sentence_transformers) (3.3)\nRequirement already satisfied: charset-normalizer~=2.0.0 in /databricks/python3/lib/python3.9/site-packages (from requests->huggingface-hub>=0.15.1->sentence_transformers) (2.0.4)\nRequirement already satisfied: urllib3<1.27,>=1.21.1 in /databricks/python3/lib/python3.9/site-packages (from requests->huggingface-hub>=0.15.1->sentence_transformers) (1.26.9)\nRequirement already satisfied: certifi>=2017.4.17 in /databricks/python3/lib/python3.9/site-packages (from requests->huggingface-hub>=0.15.1->sentence_transformers) (2021.10.8)\nRequirement already satisfied: threadpoolctl>=2.0.0 in /databricks/python3/lib/python3.9/site-packages (from scikit-learn->sentence_transformers) (2.2.0)\nRequirement already satisfied: joblib>=0.11 in /databricks/python3/lib/python3.9/site-packages (from scikit-learn->sentence_transformers) (1.1.1)\nRequirement already satisfied: mpmath<1.4.0,>=1.1.0 in /local_disk0/.ephemeral_nfs/envs/pythonEnv-03f64a74-967e-4d0a-a662-4627a8f83a79/lib/python3.9/site-packages (from sympy->torch>=1.11.0->sentence_transformers) (1.3.0)\nPython interpreter will be restarted.\n"
     ]
    }
   ],
   "source": [
    "pip install sentence_transformers"
   ]
  },
  {
   "cell_type": "code",
   "execution_count": 0,
   "metadata": {
    "application/vnd.databricks.v1+cell": {
     "cellMetadata": {
      "byteLimit": 2048000,
      "rowLimit": 10000
     },
     "inputWidgets": {},
     "nuid": "cb32a276-8936-4a3b-8372-24353c48c463",
     "showTitle": false,
     "title": ""
    },
    "jupyter": {
     "outputs_hidden": true
    }
   },
   "outputs": [
    {
     "output_type": "stream",
     "name": "stderr",
     "output_type": "stream",
     "text": [
      "/databricks/python_shell/dbruntime/PythonPackageImportsInstrumentation/__init__.py:171: TqdmExperimentalWarning: Using `tqdm.autonotebook.tqdm` in notebook mode. Use `tqdm.tqdm` instead to force console mode (e.g. in jupyter console)\n  original_result = python_builtin_import(name, globals, locals, fromlist, level)\n/local_disk0/.ephemeral_nfs/envs/pythonEnv-03f64a74-967e-4d0a-a662-4627a8f83a79/lib/python3.9/site-packages/huggingface_hub/file_download.py:1132: FutureWarning: `resume_download` is deprecated and will be removed in version 1.0.0. Downloads always resume when possible. If you want to force a new download, use `force_download=True`.\n  warnings.warn(\n"
     ]
    },
    {
     "output_type": "stream",
     "name": "stdout",
     "output_type": "stream",
     "text": [
      "Out[1]: SentenceTransformer(\n  (0): Transformer({'max_seq_length': 384, 'do_lower_case': False}) with Transformer model: MPNetModel \n  (1): Pooling({'word_embedding_dimension': 768, 'pooling_mode_cls_token': False, 'pooling_mode_mean_tokens': True, 'pooling_mode_max_tokens': False, 'pooling_mode_mean_sqrt_len_tokens': False, 'pooling_mode_weightedmean_tokens': False, 'pooling_mode_lasttoken': False, 'include_prompt': True})\n  (2): Normalize()\n)"
     ]
    }
   ],
   "source": [
    "import torch\n",
    "from sentence_transformers import SentenceTransformer\n",
    "\n",
    "# set device to GPU if available\n",
    "device = 'cuda' if torch.cuda.is_available() else 'cpu'\n",
    "# load the table embedding model from huggingface models hub\n",
    "retriever = SentenceTransformer(\"deepset/all-mpnet-base-v2-table\", device=device)\n",
    "retriever"
   ]
  },
  {
   "cell_type": "code",
   "execution_count": 0,
   "metadata": {
    "application/vnd.databricks.v1+cell": {
     "cellMetadata": {
      "byteLimit": 2048000,
      "rowLimit": 10000
     },
     "inputWidgets": {},
     "nuid": "9934767a-aacf-4064-a7c7-a3b4bb628a37",
     "showTitle": false,
     "title": ""
    },
    "jupyter": {
     "outputs_hidden": true
    }
   },
   "outputs": [
    {
     "output_type": "display_data",
     "data": {
      "application/vnd.databricks.v1+bamboolib_hint": "{\"pd.DataFrames\": [], \"version\": \"0.0.1\"}",
      "text/plain": []
     },
     "metadata": {},
     "output_type": "display_data"
    }
   ],
   "source": [
    "import pandas as pd\n",
    "\n",
    "# Read the CSV file\n",
    "data = sqlContext.sql('select * from `data`')\n",
    "df = data.toPandas()\n",
    "\n",
    "def process_value(value):\n",
    "    if value == 0:\n",
    "        return True\n",
    "    elif value == 1:\n",
    "        return False\n",
    "    else:\n",
    "        return value\n",
    "\n",
    "# Apply the function to each element in the DataFrame\n",
    "df = df.applymap(process_value)\n",
    "\n",
    "tables = []\n",
    "# Iterate through the DataFrame in chunks of 10 rows\n",
    "chunk_size = 5\n",
    "for start in range(0, len(df), chunk_size):\n",
    "    # Select 10 rows starting from the current index\n",
    "    chunk = df.iloc[start:start+chunk_size]\n",
    "    tables.append(chunk)\n"
   ]
  },
  {
   "cell_type": "code",
   "execution_count": 0,
   "metadata": {
    "application/vnd.databricks.v1+cell": {
     "cellMetadata": {
      "byteLimit": 2048000,
      "rowLimit": 10000
     },
     "inputWidgets": {},
     "nuid": "8195f3a2-7632-4195-940e-7ba3a0604cd2",
     "showTitle": false,
     "title": ""
    }
   },
   "outputs": [],
   "source": [
    "#Converting the table to string\n",
    "def _preprocess_tables(tables: list):\n",
    "    processed = []\n",
    "    # loop through all tables\n",
    "    for table in tables:\n",
    "        # convert the table to csv and\n",
    "        processed_table = \"\\n\".join([table.to_csv(index=False)])\n",
    "        # add the processed table to processed list\n",
    "        processed.append(processed_table)\n",
    "    return processed"
   ]
  },
  {
   "cell_type": "code",
   "execution_count": 0,
   "metadata": {
    "application/vnd.databricks.v1+cell": {
     "cellMetadata": {
      "byteLimit": 2048000,
      "rowLimit": 10000
     },
     "inputWidgets": {},
     "nuid": "05325263-ea1a-411e-b954-b74858e15c55",
     "showTitle": false,
     "title": ""
    }
   },
   "outputs": [],
   "source": [
    "# format all the dataframes in the tables list\n",
    "processed_tables = _preprocess_tables(tables)\n"
   ]
  },
  {
   "cell_type": "code",
   "execution_count": 0,
   "metadata": {
    "application/vnd.databricks.v1+cell": {
     "cellMetadata": {
      "byteLimit": 2048000,
      "rowLimit": 10000
     },
     "inputWidgets": {},
     "nuid": "6fc23736-638a-454c-82a9-5f0cef99c0a6",
     "showTitle": false,
     "title": ""
    }
   },
   "outputs": [],
   "source": [
    "from pinecone import Pinecone, ServerlessSpec\n",
    "\n",
    "pc = Pinecone(api_key='6315210d-75de-4bdd-b3c1-ffcb5ca3b35c')\n"
   ]
  },
  {
   "cell_type": "code",
   "execution_count": 0,
   "metadata": {
    "application/vnd.databricks.v1+cell": {
     "cellMetadata": {
      "byteLimit": 2048000,
      "rowLimit": 10000
     },
     "inputWidgets": {},
     "nuid": "ffc3b558-faca-4b3f-8a34-efc1a904d46a",
     "showTitle": false,
     "title": ""
    }
   },
   "outputs": [],
   "source": [
    "# you can choose any name for the index\n",
    "index_name = \"table-qa\"\n",
    "\n",
    "# Check if the table-qa index exists\n",
    "if index_name not in pc.list_indexes().names():\n",
    "    pc.create_index(\n",
    "        name=index_name,\n",
    "        dimension=768,\n",
    "        metric=\"cosine\",\n",
    "        spec=ServerlessSpec(\n",
    "            cloud='aws',\n",
    "            region='us-east-1'\n",
    "        )\n",
    "    )\n",
    "\n",
    "index = pc.Index(index_name)"
   ]
  },
  {
   "cell_type": "code",
   "execution_count": 0,
   "metadata": {
    "application/vnd.databricks.v1+cell": {
     "cellMetadata": {
      "byteLimit": 2048000,
      "rowLimit": 10000
     },
     "inputWidgets": {},
     "nuid": "7d779088-3fb9-4fa7-bb55-61a96f68077d",
     "showTitle": false,
     "title": ""
    }
   },
   "outputs": [
    {
     "output_type": "display_data",
     "data": {
      "application/vnd.jupyter.widget-view+json": {
       "model_id": "40b57e3b3fba48efbe4e26fe9336cc36",
       "version_major": 2,
       "version_minor": 0
      },
      "text/plain": [
       "  0%|          | 0/6 [00:00<?, ?it/s]"
      ]
     },
     "metadata": {},
     "output_type": "display_data"
    },
    {
     "output_type": "stream",
     "name": "stdout",
     "output_type": "stream",
     "text": [
      "Out[7]: {'dimension': 768,\n 'index_fullness': 0.0,\n 'namespaces': {'': {'vector_count': 349}},\n 'total_vector_count': 349}"
     ]
    }
   ],
   "source": [
    "\n",
    "from tqdm.auto import tqdm\n",
    "\n",
    "# we will use batches of 64\n",
    "batch_size = 64\n",
    "\n",
    "for i in tqdm(range(0, len(processed_tables), batch_size)):\n",
    "    # find end of batch\n",
    "    i_end = min(i+batch_size, len(processed_tables))\n",
    "    # extract batch\n",
    "    batch = processed_tables[i:i_end]\n",
    "    # generate embeddings for batch\n",
    "    emb = retriever.encode(batch).tolist()\n",
    "    # create unique IDs ranging from zero to the total number of tables in the dataset\n",
    "    ids = [f\"{idx}\" for idx in range(i, i_end)]\n",
    "    # add all to upsert list\n",
    "    to_upsert = list(zip(ids, emb))\n",
    "    # upsert/insert these records to pinecone\n",
    "    _ = index.upsert(vectors=to_upsert)\n",
    "\n",
    "# check that we have all vectors in index\n",
    "index.describe_index_stats()\n",
    "     "
   ]
  },
  {
   "cell_type": "code",
   "execution_count": 0,
   "metadata": {
    "application/vnd.databricks.v1+cell": {
     "cellMetadata": {
      "byteLimit": 2048000,
      "rowLimit": 10000
     },
     "inputWidgets": {},
     "nuid": "2b9277b3-b3c1-477a-a903-d38a0df30244",
     "showTitle": false,
     "title": ""
    }
   },
   "outputs": [
    {
     "output_type": "stream",
     "name": "stdout",
     "output_type": "stream",
     "text": [
      "Out[25]: {'matches': [{'id': '332', 'score': 0.682276249, 'values': []},\n             {'id': '294', 'score': 0.680096567, 'values': []},\n             {'id': '188', 'score': 0.661158264, 'values': []}],\n 'namespace': '',\n 'usage': {'read_units': 5}}"
     ]
    }
   ],
   "source": [
    "query = \"Give me 5 providers in Tupelo who offer medicaid\"\n",
    "# generate embedding for the query\n",
    "xq = retriever.encode([query]).tolist()\n",
    "# query pinecone index to find the table containing answer to the query\n",
    "result = index.query(vector=xq, top_k=3)\n",
    "result"
   ]
  },
  {
   "cell_type": "code",
   "execution_count": 0,
   "metadata": {
    "application/vnd.databricks.v1+cell": {
     "cellMetadata": {
      "byteLimit": 2048000,
      "rowLimit": 10000
     },
     "inputWidgets": {},
     "nuid": "a868a691-b330-4f60-b2dc-a1c3cb42b95d",
     "showTitle": false,
     "title": ""
    },
    "jupyter": {
     "outputs_hidden": true
    }
   },
   "outputs": [],
   "source": [
    "# Get the ids for indices 0, 1, and 2\n",
    "ids = [int(result[\"matches\"][i][\"id\"]) for i in range(3)]\n",
    "\n",
    "# Extract the head (first few rows) of each table corresponding to ids 0, 1, and 2\n",
    "heads = [tables[id].head() for id in ids]\n",
    "\n",
    "# Concatenate the heads into a single DataFrame\n",
    "batch = pd.concat(heads, ignore_index=True)\n",
    "\n",
    "\n"
   ]
  },
  {
   "cell_type": "code",
   "execution_count": 0,
   "metadata": {
    "application/vnd.databricks.v1+cell": {
     "cellMetadata": {
      "byteLimit": 2048000,
      "rowLimit": 10000
     },
     "inputWidgets": {},
     "nuid": "79e73eb6-94e5-41c8-8405-61923f2abb01",
     "showTitle": false,
     "title": ""
    },
    "jupyter": {
     "outputs_hidden": true
    }
   },
   "outputs": [],
   "source": [
    "# Load model directly\n",
    "from transformers import AutoTokenizer, AutoModelForTableQuestionAnswering\n",
    "\n",
    "\n",
    "tokenizer = AutoTokenizer.from_pretrained(\"google/tapas-large-finetuned-wtq\")\n",
    "model = AutoModelForTableQuestionAnswering.from_pretrained(\"google/tapas-large-finetuned-wtq\")\n",
    "#model.max_seq_length = 8192"
   ]
  },
  {
   "cell_type": "code",
   "execution_count": 0,
   "metadata": {
    "application/vnd.databricks.v1+cell": {
     "cellMetadata": {
      "byteLimit": 2048000,
      "rowLimit": 10000
     },
     "inputWidgets": {},
     "nuid": "35b434ea-2250-4baa-afb8-157bd7aabca1",
     "showTitle": false,
     "title": ""
    }
   },
   "outputs": [
    {
     "output_type": "display_data",
     "data": {
      "text/html": [
       "<div>\n",
       "<style scoped>\n",
       "    .dataframe tbody tr th:only-of-type {\n",
       "        vertical-align: middle;\n",
       "    }\n",
       "\n",
       "    .dataframe tbody tr th {\n",
       "        vertical-align: top;\n",
       "    }\n",
       "\n",
       "    .dataframe thead th {\n",
       "        text-align: right;\n",
       "    }\n",
       "</style>\n",
       "<table border=\"1\" class=\"dataframe\">\n",
       "  <thead>\n",
       "    <tr style=\"text-align: right;\">\n",
       "      <th></th>\n",
       "      <th>ID</th>\n",
       "      <th>Provider Name</th>\n",
       "      <th>Provider Address</th>\n",
       "      <th>Provider City</th>\n",
       "      <th>Provider State</th>\n",
       "      <th>PostalCode</th>\n",
       "      <th>Phone1_Type</th>\n",
       "      <th>Phone1_Number</th>\n",
       "      <th>Phone2_Type</th>\n",
       "      <th>Phone2_Number</th>\n",
       "      <th>...</th>\n",
       "      <th>Independent Living</th>\n",
       "      <th>Bridge to Independence</th>\n",
       "      <th>Traumatic Brain Injury / Spinal Cord Injury</th>\n",
       "      <th>Intellectual Disability / Developmental Disability</th>\n",
       "      <th>Private Pay: Credit</th>\n",
       "      <th>Private Pay: Cash</th>\n",
       "      <th>Other</th>\n",
       "      <th>Private Insurance</th>\n",
       "      <th>Medicaid</th>\n",
       "      <th>Private Pay: Check</th>\n",
       "    </tr>\n",
       "  </thead>\n",
       "  <tbody>\n",
       "    <tr>\n",
       "      <th>0</th>\n",
       "      <td>1475</td>\n",
       "      <td>Sam's Club Southaven</td>\n",
       "      <td>465 Goodman Road</td>\n",
       "      <td>Southaven</td>\n",
       "      <td>MS</td>\n",
       "      <td>38671</td>\n",
       "      <td>Main</td>\n",
       "      <td>2283490723</td>\n",
       "      <td>Other</td>\n",
       "      <td>6623493740.0</td>\n",
       "      <td>...</td>\n",
       "      <td>False</td>\n",
       "      <td>False</td>\n",
       "      <td>False</td>\n",
       "      <td>False</td>\n",
       "      <td>False</td>\n",
       "      <td>False</td>\n",
       "      <td>True</td>\n",
       "      <td>False</td>\n",
       "      <td>False</td>\n",
       "      <td>False</td>\n",
       "    </tr>\n",
       "    <tr>\n",
       "      <th>1</th>\n",
       "      <td>942</td>\n",
       "      <td>Magnolia Manor of Tupelo</td>\n",
       "      <td>1514 County Road 41</td>\n",
       "      <td>Tupelo</td>\n",
       "      <td>MS</td>\n",
       "      <td>38801</td>\n",
       "      <td>Main</td>\n",
       "      <td>6628426776</td>\n",
       "      <td></td>\n",
       "      <td></td>\n",
       "      <td>...</td>\n",
       "      <td>True</td>\n",
       "      <td>True</td>\n",
       "      <td>True</td>\n",
       "      <td>True</td>\n",
       "      <td>False</td>\n",
       "      <td>False</td>\n",
       "      <td>True</td>\n",
       "      <td>True</td>\n",
       "      <td>True</td>\n",
       "      <td>False</td>\n",
       "    </tr>\n",
       "    <tr>\n",
       "      <th>2</th>\n",
       "      <td>1661</td>\n",
       "      <td>Tunica Adult Day Care</td>\n",
       "      <td>1530 Edwards Ave.</td>\n",
       "      <td>Tunica</td>\n",
       "      <td>MS</td>\n",
       "      <td>38676</td>\n",
       "      <td>Main</td>\n",
       "      <td>6623632001</td>\n",
       "      <td></td>\n",
       "      <td></td>\n",
       "      <td>...</td>\n",
       "      <td>True</td>\n",
       "      <td>True</td>\n",
       "      <td>True</td>\n",
       "      <td>True</td>\n",
       "      <td>True</td>\n",
       "      <td>True</td>\n",
       "      <td>True</td>\n",
       "      <td>True</td>\n",
       "      <td>True</td>\n",
       "      <td>True</td>\n",
       "    </tr>\n",
       "    <tr>\n",
       "      <th>3</th>\n",
       "      <td>944</td>\n",
       "      <td>Magnolia Personal Care Home</td>\n",
       "      <td>174 Cliff Mitchell Road</td>\n",
       "      <td>Picayune</td>\n",
       "      <td>MS</td>\n",
       "      <td>39466</td>\n",
       "      <td>Main</td>\n",
       "      <td>6017984007</td>\n",
       "      <td></td>\n",
       "      <td></td>\n",
       "      <td>...</td>\n",
       "      <td>True</td>\n",
       "      <td>True</td>\n",
       "      <td>True</td>\n",
       "      <td>True</td>\n",
       "      <td>True</td>\n",
       "      <td>True</td>\n",
       "      <td>True</td>\n",
       "      <td>True</td>\n",
       "      <td>True</td>\n",
       "      <td>True</td>\n",
       "    </tr>\n",
       "    <tr>\n",
       "      <th>4</th>\n",
       "      <td>1471</td>\n",
       "      <td>Salvation Army  - Tupelo*</td>\n",
       "      <td>527 Carnation Street</td>\n",
       "      <td>Tupelo</td>\n",
       "      <td>MS</td>\n",
       "      <td>38801</td>\n",
       "      <td>Main</td>\n",
       "      <td>6628429222</td>\n",
       "      <td></td>\n",
       "      <td></td>\n",
       "      <td>...</td>\n",
       "      <td>False</td>\n",
       "      <td>False</td>\n",
       "      <td>True</td>\n",
       "      <td>True</td>\n",
       "      <td>True</td>\n",
       "      <td>True</td>\n",
       "      <td>True</td>\n",
       "      <td>True</td>\n",
       "      <td>True</td>\n",
       "      <td>True</td>\n",
       "    </tr>\n",
       "    <tr>\n",
       "      <th>5</th>\n",
       "      <td>1474</td>\n",
       "      <td>Sam's Club Gulfport</td>\n",
       "      <td>10431 Old Highway 49</td>\n",
       "      <td>Gulfport</td>\n",
       "      <td>MS</td>\n",
       "      <td>39503</td>\n",
       "      <td>Main</td>\n",
       "      <td>2288324441</td>\n",
       "      <td>Other</td>\n",
       "      <td>2288324848.0</td>\n",
       "      <td>...</td>\n",
       "      <td>False</td>\n",
       "      <td>False</td>\n",
       "      <td>False</td>\n",
       "      <td>False</td>\n",
       "      <td>False</td>\n",
       "      <td>False</td>\n",
       "      <td>True</td>\n",
       "      <td>False</td>\n",
       "      <td>False</td>\n",
       "      <td>False</td>\n",
       "    </tr>\n",
       "    <tr>\n",
       "      <th>6</th>\n",
       "      <td>1663</td>\n",
       "      <td>Tuxedo Nutrition Site/ Salvation Army Lodge*</td>\n",
       "      <td>610 B Street</td>\n",
       "      <td>Meridian</td>\n",
       "      <td>MS</td>\n",
       "      <td>39301</td>\n",
       "      <td>Main</td>\n",
       "      <td>6014851814</td>\n",
       "      <td></td>\n",
       "      <td></td>\n",
       "      <td>...</td>\n",
       "      <td>False</td>\n",
       "      <td>False</td>\n",
       "      <td>False</td>\n",
       "      <td>False</td>\n",
       "      <td>True</td>\n",
       "      <td>True</td>\n",
       "      <td>True</td>\n",
       "      <td>True</td>\n",
       "      <td>True</td>\n",
       "      <td>True</td>\n",
       "    </tr>\n",
       "    <tr>\n",
       "      <th>7</th>\n",
       "      <td>1662</td>\n",
       "      <td>Tupelo Nursing and Rehabilitation Center</td>\n",
       "      <td>1901 Briar Ridge Road</td>\n",
       "      <td>Tupelo</td>\n",
       "      <td>MS</td>\n",
       "      <td>38804</td>\n",
       "      <td>Main</td>\n",
       "      <td>6628440675</td>\n",
       "      <td></td>\n",
       "      <td></td>\n",
       "      <td>...</td>\n",
       "      <td>True</td>\n",
       "      <td>True</td>\n",
       "      <td>True</td>\n",
       "      <td>True</td>\n",
       "      <td>True</td>\n",
       "      <td>True</td>\n",
       "      <td>True</td>\n",
       "      <td>True</td>\n",
       "      <td>True</td>\n",
       "      <td>True</td>\n",
       "    </tr>\n",
       "    <tr>\n",
       "      <th>8</th>\n",
       "      <td>945</td>\n",
       "      <td>Magnolia Place</td>\n",
       "      <td>1515 Munsford Place</td>\n",
       "      <td>New Albany</td>\n",
       "      <td>MS</td>\n",
       "      <td>38652</td>\n",
       "      <td>Main</td>\n",
       "      <td>6625340046</td>\n",
       "      <td></td>\n",
       "      <td></td>\n",
       "      <td>...</td>\n",
       "      <td>True</td>\n",
       "      <td>True</td>\n",
       "      <td>True</td>\n",
       "      <td>True</td>\n",
       "      <td>True</td>\n",
       "      <td>True</td>\n",
       "      <td>True</td>\n",
       "      <td>True</td>\n",
       "      <td>True</td>\n",
       "      <td>True</td>\n",
       "    </tr>\n",
       "    <tr>\n",
       "      <th>9</th>\n",
       "      <td>1665</td>\n",
       "      <td>U.S.D.A. Rural Development Office/Gulfport</td>\n",
       "      <td>12238 Ashley Drive</td>\n",
       "      <td>Gulfport</td>\n",
       "      <td>MS</td>\n",
       "      <td>39503</td>\n",
       "      <td>Main</td>\n",
       "      <td>2288310881</td>\n",
       "      <td></td>\n",
       "      <td></td>\n",
       "      <td>...</td>\n",
       "      <td>False</td>\n",
       "      <td>False</td>\n",
       "      <td>False</td>\n",
       "      <td>False</td>\n",
       "      <td>True</td>\n",
       "      <td>True</td>\n",
       "      <td>True</td>\n",
       "      <td>True</td>\n",
       "      <td>True</td>\n",
       "      <td>True</td>\n",
       "    </tr>\n",
       "    <tr>\n",
       "      <th>10</th>\n",
       "      <td>1473</td>\n",
       "      <td>Sam's Club/Tupelo</td>\n",
       "      <td>3833 North Gloster Street</td>\n",
       "      <td>Tupelo</td>\n",
       "      <td>MS</td>\n",
       "      <td>38804</td>\n",
       "      <td>Main</td>\n",
       "      <td>6628406459</td>\n",
       "      <td>Other</td>\n",
       "      <td>6628407601.0</td>\n",
       "      <td>...</td>\n",
       "      <td>False</td>\n",
       "      <td>False</td>\n",
       "      <td>False</td>\n",
       "      <td>False</td>\n",
       "      <td>False</td>\n",
       "      <td>False</td>\n",
       "      <td>True</td>\n",
       "      <td>False</td>\n",
       "      <td>False</td>\n",
       "      <td>False</td>\n",
       "    </tr>\n",
       "    <tr>\n",
       "      <th>11</th>\n",
       "      <td>941</td>\n",
       "      <td>Magnolia Manor</td>\n",
       "      <td>410 East First Street</td>\n",
       "      <td>Forest</td>\n",
       "      <td>MS</td>\n",
       "      <td>39074</td>\n",
       "      <td>Main</td>\n",
       "      <td>6014694389</td>\n",
       "      <td></td>\n",
       "      <td></td>\n",
       "      <td>...</td>\n",
       "      <td>False</td>\n",
       "      <td>False</td>\n",
       "      <td>True</td>\n",
       "      <td>False</td>\n",
       "      <td>False</td>\n",
       "      <td>False</td>\n",
       "      <td>True</td>\n",
       "      <td>False</td>\n",
       "      <td>False</td>\n",
       "      <td>False</td>\n",
       "    </tr>\n",
       "    <tr>\n",
       "      <th>12</th>\n",
       "      <td>943</td>\n",
       "      <td>Magnolia Medical LLC</td>\n",
       "      <td>400 Carter Street</td>\n",
       "      <td>Vidalia</td>\n",
       "      <td>LA</td>\n",
       "      <td>71373</td>\n",
       "      <td>Main</td>\n",
       "      <td>6018887126</td>\n",
       "      <td></td>\n",
       "      <td></td>\n",
       "      <td>...</td>\n",
       "      <td>True</td>\n",
       "      <td>True</td>\n",
       "      <td>True</td>\n",
       "      <td>False</td>\n",
       "      <td>True</td>\n",
       "      <td>True</td>\n",
       "      <td>True</td>\n",
       "      <td>True</td>\n",
       "      <td>True</td>\n",
       "      <td>True</td>\n",
       "    </tr>\n",
       "    <tr>\n",
       "      <th>13</th>\n",
       "      <td>1664</td>\n",
       "      <td>U.S.D.A. Rural Development Office, Hattiesburg*</td>\n",
       "      <td>191 Tatum Boulevard</td>\n",
       "      <td>Hattiesburg</td>\n",
       "      <td>MS</td>\n",
       "      <td>39401</td>\n",
       "      <td>Main</td>\n",
       "      <td>6015834371</td>\n",
       "      <td>Other</td>\n",
       "      <td>6012613293.0</td>\n",
       "      <td>...</td>\n",
       "      <td>False</td>\n",
       "      <td>False</td>\n",
       "      <td>False</td>\n",
       "      <td>False</td>\n",
       "      <td>True</td>\n",
       "      <td>True</td>\n",
       "      <td>True</td>\n",
       "      <td>True</td>\n",
       "      <td>True</td>\n",
       "      <td>True</td>\n",
       "    </tr>\n",
       "    <tr>\n",
       "      <th>14</th>\n",
       "      <td>1472</td>\n",
       "      <td>Salvation Army Thrift Store/Meridian*</td>\n",
       "      <td>2306 North Frontage Road</td>\n",
       "      <td>Meridian</td>\n",
       "      <td>MS</td>\n",
       "      <td>39301</td>\n",
       "      <td>Main</td>\n",
       "      <td>6014811427</td>\n",
       "      <td></td>\n",
       "      <td></td>\n",
       "      <td>...</td>\n",
       "      <td>False</td>\n",
       "      <td>False</td>\n",
       "      <td>False</td>\n",
       "      <td>False</td>\n",
       "      <td>False</td>\n",
       "      <td>False</td>\n",
       "      <td>True</td>\n",
       "      <td>True</td>\n",
       "      <td>True</td>\n",
       "      <td>False</td>\n",
       "    </tr>\n",
       "  </tbody>\n",
       "</table>\n",
       "<p>15 rows × 41 columns</p>\n",
       "</div>"
      ]
     },
     "metadata": {
      "application/vnd.databricks.v1+output": {
       "addedWidgets": {},
       "arguments": {},
       "data": "<div>\n<style scoped>\n    .dataframe tbody tr th:only-of-type {\n        vertical-align: middle;\n    }\n\n    .dataframe tbody tr th {\n        vertical-align: top;\n    }\n\n    .dataframe thead th {\n        text-align: right;\n    }\n</style>\n<table border=\"1\" class=\"dataframe\">\n  <thead>\n    <tr style=\"text-align: right;\">\n      <th></th>\n      <th>ID</th>\n      <th>Provider Name</th>\n      <th>Provider Address</th>\n      <th>Provider City</th>\n      <th>Provider State</th>\n      <th>PostalCode</th>\n      <th>Phone1_Type</th>\n      <th>Phone1_Number</th>\n      <th>Phone2_Type</th>\n      <th>Phone2_Number</th>\n      <th>...</th>\n      <th>Independent Living</th>\n      <th>Bridge to Independence</th>\n      <th>Traumatic Brain Injury / Spinal Cord Injury</th>\n      <th>Intellectual Disability / Developmental Disability</th>\n      <th>Private Pay: Credit</th>\n      <th>Private Pay: Cash</th>\n      <th>Other</th>\n      <th>Private Insurance</th>\n      <th>Medicaid</th>\n      <th>Private Pay: Check</th>\n    </tr>\n  </thead>\n  <tbody>\n    <tr>\n      <th>0</th>\n      <td>1475</td>\n      <td>Sam's Club Southaven</td>\n      <td>465 Goodman Road</td>\n      <td>Southaven</td>\n      <td>MS</td>\n      <td>38671</td>\n      <td>Main</td>\n      <td>2283490723</td>\n      <td>Other</td>\n      <td>6623493740.0</td>\n      <td>...</td>\n      <td>False</td>\n      <td>False</td>\n      <td>False</td>\n      <td>False</td>\n      <td>False</td>\n      <td>False</td>\n      <td>True</td>\n      <td>False</td>\n      <td>False</td>\n      <td>False</td>\n    </tr>\n    <tr>\n      <th>1</th>\n      <td>942</td>\n      <td>Magnolia Manor of Tupelo</td>\n      <td>1514 County Road 41</td>\n      <td>Tupelo</td>\n      <td>MS</td>\n      <td>38801</td>\n      <td>Main</td>\n      <td>6628426776</td>\n      <td></td>\n      <td></td>\n      <td>...</td>\n      <td>True</td>\n      <td>True</td>\n      <td>True</td>\n      <td>True</td>\n      <td>False</td>\n      <td>False</td>\n      <td>True</td>\n      <td>True</td>\n      <td>True</td>\n      <td>False</td>\n    </tr>\n    <tr>\n      <th>2</th>\n      <td>1661</td>\n      <td>Tunica Adult Day Care</td>\n      <td>1530 Edwards Ave.</td>\n      <td>Tunica</td>\n      <td>MS</td>\n      <td>38676</td>\n      <td>Main</td>\n      <td>6623632001</td>\n      <td></td>\n      <td></td>\n      <td>...</td>\n      <td>True</td>\n      <td>True</td>\n      <td>True</td>\n      <td>True</td>\n      <td>True</td>\n      <td>True</td>\n      <td>True</td>\n      <td>True</td>\n      <td>True</td>\n      <td>True</td>\n    </tr>\n    <tr>\n      <th>3</th>\n      <td>944</td>\n      <td>Magnolia Personal Care Home</td>\n      <td>174 Cliff Mitchell Road</td>\n      <td>Picayune</td>\n      <td>MS</td>\n      <td>39466</td>\n      <td>Main</td>\n      <td>6017984007</td>\n      <td></td>\n      <td></td>\n      <td>...</td>\n      <td>True</td>\n      <td>True</td>\n      <td>True</td>\n      <td>True</td>\n      <td>True</td>\n      <td>True</td>\n      <td>True</td>\n      <td>True</td>\n      <td>True</td>\n      <td>True</td>\n    </tr>\n    <tr>\n      <th>4</th>\n      <td>1471</td>\n      <td>Salvation Army  - Tupelo*</td>\n      <td>527 Carnation Street</td>\n      <td>Tupelo</td>\n      <td>MS</td>\n      <td>38801</td>\n      <td>Main</td>\n      <td>6628429222</td>\n      <td></td>\n      <td></td>\n      <td>...</td>\n      <td>False</td>\n      <td>False</td>\n      <td>True</td>\n      <td>True</td>\n      <td>True</td>\n      <td>True</td>\n      <td>True</td>\n      <td>True</td>\n      <td>True</td>\n      <td>True</td>\n    </tr>\n    <tr>\n      <th>5</th>\n      <td>1474</td>\n      <td>Sam's Club Gulfport</td>\n      <td>10431 Old Highway 49</td>\n      <td>Gulfport</td>\n      <td>MS</td>\n      <td>39503</td>\n      <td>Main</td>\n      <td>2288324441</td>\n      <td>Other</td>\n      <td>2288324848.0</td>\n      <td>...</td>\n      <td>False</td>\n      <td>False</td>\n      <td>False</td>\n      <td>False</td>\n      <td>False</td>\n      <td>False</td>\n      <td>True</td>\n      <td>False</td>\n      <td>False</td>\n      <td>False</td>\n    </tr>\n    <tr>\n      <th>6</th>\n      <td>1663</td>\n      <td>Tuxedo Nutrition Site/ Salvation Army Lodge*</td>\n      <td>610 B Street</td>\n      <td>Meridian</td>\n      <td>MS</td>\n      <td>39301</td>\n      <td>Main</td>\n      <td>6014851814</td>\n      <td></td>\n      <td></td>\n      <td>...</td>\n      <td>False</td>\n      <td>False</td>\n      <td>False</td>\n      <td>False</td>\n      <td>True</td>\n      <td>True</td>\n      <td>True</td>\n      <td>True</td>\n      <td>True</td>\n      <td>True</td>\n    </tr>\n    <tr>\n      <th>7</th>\n      <td>1662</td>\n      <td>Tupelo Nursing and Rehabilitation Center</td>\n      <td>1901 Briar Ridge Road</td>\n      <td>Tupelo</td>\n      <td>MS</td>\n      <td>38804</td>\n      <td>Main</td>\n      <td>6628440675</td>\n      <td></td>\n      <td></td>\n      <td>...</td>\n      <td>True</td>\n      <td>True</td>\n      <td>True</td>\n      <td>True</td>\n      <td>True</td>\n      <td>True</td>\n      <td>True</td>\n      <td>True</td>\n      <td>True</td>\n      <td>True</td>\n    </tr>\n    <tr>\n      <th>8</th>\n      <td>945</td>\n      <td>Magnolia Place</td>\n      <td>1515 Munsford Place</td>\n      <td>New Albany</td>\n      <td>MS</td>\n      <td>38652</td>\n      <td>Main</td>\n      <td>6625340046</td>\n      <td></td>\n      <td></td>\n      <td>...</td>\n      <td>True</td>\n      <td>True</td>\n      <td>True</td>\n      <td>True</td>\n      <td>True</td>\n      <td>True</td>\n      <td>True</td>\n      <td>True</td>\n      <td>True</td>\n      <td>True</td>\n    </tr>\n    <tr>\n      <th>9</th>\n      <td>1665</td>\n      <td>U.S.D.A. Rural Development Office/Gulfport</td>\n      <td>12238 Ashley Drive</td>\n      <td>Gulfport</td>\n      <td>MS</td>\n      <td>39503</td>\n      <td>Main</td>\n      <td>2288310881</td>\n      <td></td>\n      <td></td>\n      <td>...</td>\n      <td>False</td>\n      <td>False</td>\n      <td>False</td>\n      <td>False</td>\n      <td>True</td>\n      <td>True</td>\n      <td>True</td>\n      <td>True</td>\n      <td>True</td>\n      <td>True</td>\n    </tr>\n    <tr>\n      <th>10</th>\n      <td>1473</td>\n      <td>Sam's Club/Tupelo</td>\n      <td>3833 North Gloster Street</td>\n      <td>Tupelo</td>\n      <td>MS</td>\n      <td>38804</td>\n      <td>Main</td>\n      <td>6628406459</td>\n      <td>Other</td>\n      <td>6628407601.0</td>\n      <td>...</td>\n      <td>False</td>\n      <td>False</td>\n      <td>False</td>\n      <td>False</td>\n      <td>False</td>\n      <td>False</td>\n      <td>True</td>\n      <td>False</td>\n      <td>False</td>\n      <td>False</td>\n    </tr>\n    <tr>\n      <th>11</th>\n      <td>941</td>\n      <td>Magnolia Manor</td>\n      <td>410 East First Street</td>\n      <td>Forest</td>\n      <td>MS</td>\n      <td>39074</td>\n      <td>Main</td>\n      <td>6014694389</td>\n      <td></td>\n      <td></td>\n      <td>...</td>\n      <td>False</td>\n      <td>False</td>\n      <td>True</td>\n      <td>False</td>\n      <td>False</td>\n      <td>False</td>\n      <td>True</td>\n      <td>False</td>\n      <td>False</td>\n      <td>False</td>\n    </tr>\n    <tr>\n      <th>12</th>\n      <td>943</td>\n      <td>Magnolia Medical LLC</td>\n      <td>400 Carter Street</td>\n      <td>Vidalia</td>\n      <td>LA</td>\n      <td>71373</td>\n      <td>Main</td>\n      <td>6018887126</td>\n      <td></td>\n      <td></td>\n      <td>...</td>\n      <td>True</td>\n      <td>True</td>\n      <td>True</td>\n      <td>False</td>\n      <td>True</td>\n      <td>True</td>\n      <td>True</td>\n      <td>True</td>\n      <td>True</td>\n      <td>True</td>\n    </tr>\n    <tr>\n      <th>13</th>\n      <td>1664</td>\n      <td>U.S.D.A. Rural Development Office, Hattiesburg*</td>\n      <td>191 Tatum Boulevard</td>\n      <td>Hattiesburg</td>\n      <td>MS</td>\n      <td>39401</td>\n      <td>Main</td>\n      <td>6015834371</td>\n      <td>Other</td>\n      <td>6012613293.0</td>\n      <td>...</td>\n      <td>False</td>\n      <td>False</td>\n      <td>False</td>\n      <td>False</td>\n      <td>True</td>\n      <td>True</td>\n      <td>True</td>\n      <td>True</td>\n      <td>True</td>\n      <td>True</td>\n    </tr>\n    <tr>\n      <th>14</th>\n      <td>1472</td>\n      <td>Salvation Army Thrift Store/Meridian*</td>\n      <td>2306 North Frontage Road</td>\n      <td>Meridian</td>\n      <td>MS</td>\n      <td>39301</td>\n      <td>Main</td>\n      <td>6014811427</td>\n      <td></td>\n      <td></td>\n      <td>...</td>\n      <td>False</td>\n      <td>False</td>\n      <td>False</td>\n      <td>False</td>\n      <td>False</td>\n      <td>False</td>\n      <td>True</td>\n      <td>True</td>\n      <td>True</td>\n      <td>False</td>\n    </tr>\n  </tbody>\n</table>\n<p>15 rows × 41 columns</p>\n</div>",
       "datasetInfos": [],
       "metadata": {},
       "removedWidgets": [],
       "textData": null,
       "type": "htmlSandbox"
      }
     },
     "output_type": "display_data"
    }
   ],
   "source": [
    "\n",
    "batch.fillna('', inplace=True)\n",
    "batch = batch.sample(frac=1.0, random_state=42, replace=False).reset_index(drop=True).astype(str)\n",
    "batch\n"
   ]
  },
  {
   "cell_type": "code",
   "execution_count": 0,
   "metadata": {
    "application/vnd.databricks.v1+cell": {
     "cellMetadata": {
      "byteLimit": 2048000,
      "rowLimit": 10000
     },
     "inputWidgets": {},
     "nuid": "8c5f7947-551b-461b-970d-fd7052f511c0",
     "showTitle": false,
     "title": ""
    }
   },
   "outputs": [
    {
     "output_type": "stream",
     "name": "stdout",
     "output_type": "stream",
     "text": [
      "Answer: [\"Magnolia Manor of Tupelo, Salvation Army  - Tupelo*, Sam's Club Gulfport, Tupelo Nursing and Rehabilitation Center, Sam's Club/Tupelo\"]\n"
     ]
    }
   ],
   "source": [
    "# Encode the table and query\n",
    "inputs = tokenizer(table=batch, queries=query, padding=\"max_length\", return_tensors=\"pt\")\n",
    "\n",
    "# Pass the inputs to the model\n",
    "outputs = model(**inputs)\n",
    "\n",
    "# Interpret the logits to get the answer\n",
    "logits = outputs.logits\n",
    "logits_agg = outputs.logits_aggregation\n",
    "\n",
    "# Get the answer from the model's output\n",
    "predicted_answer_coordinates, predicted_aggregation_indices = tokenizer.convert_logits_to_predictions(\n",
    "    inputs,\n",
    "    logits.detach(),\n",
    "    logits_agg.detach()\n",
    ")\n",
    "\n",
    "answers = []\n",
    "for coordinates in predicted_answer_coordinates:\n",
    "    cell_values = []\n",
    "    for coord in coordinates:\n",
    "        try:\n",
    "            cell_values.append(batch.iat[coord])\n",
    "        except IndexError:\n",
    "            print(f\"Index {coord} is out of bounds for the DataFrame with shape {batch.shape}\")\n",
    "            continue\n",
    "    if cell_values:\n",
    "        answers.append(\", \".join(cell_values))\n",
    "\n",
    "print(\"Answer:\", answers)\n"
   ]
  }
 ],
 "metadata": {
  "application/vnd.databricks.v1+notebook": {
   "dashboards": [],
   "environmentMetadata": null,
   "language": "python",
   "notebookMetadata": {
    "pythonIndentUnit": 4
   },
   "notebookName": "Predicting",
   "widgets": {}
  }
 },
 "nbformat": 4,
 "nbformat_minor": 0
}
