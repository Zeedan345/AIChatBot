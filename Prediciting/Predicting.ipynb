{
 "cells": [
  {
   "cell_type": "code",
   "execution_count": 0,
   "metadata": {
    "application/vnd.databricks.v1+cell": {
     "cellMetadata": {
      "byteLimit": 2048000,
      "rowLimit": 10000
     },
     "inputWidgets": {},
     "nuid": "78644f63-a313-4865-91af-2c794e33f7b9",
     "showTitle": false,
     "title": ""
    },
    "jupyter": {
     "outputs_hidden": true
    }
   },
   "outputs": [
    {
     "output_type": "stream",
     "name": "stdout",
     "output_type": "stream",
     "text": [
      "Python interpreter will be restarted.\nCollecting pinecone-client\n  Using cached pinecone_client-4.1.1-py3-none-any.whl (216 kB)\nRequirement already satisfied: urllib3>=1.26.0 in /databricks/python3/lib/python3.9/site-packages (from pinecone-client) (1.26.9)\nCollecting tqdm>=4.64.1\n  Using cached tqdm-4.66.4-py3-none-any.whl (78 kB)\nCollecting pinecone-plugin-interface<0.0.8,>=0.0.7\n  Using cached pinecone_plugin_interface-0.0.7-py3-none-any.whl (6.2 kB)\nRequirement already satisfied: typing-extensions>=3.7.4 in /databricks/python3/lib/python3.9/site-packages (from pinecone-client) (4.1.1)\nRequirement already satisfied: certifi>=2019.11.17 in /databricks/python3/lib/python3.9/site-packages (from pinecone-client) (2021.10.8)\nInstalling collected packages: tqdm, pinecone-plugin-interface, pinecone-client\nSuccessfully installed pinecone-client-4.1.1 pinecone-plugin-interface-0.0.7 tqdm-4.66.4\nPython interpreter will be restarted.\n"
     ]
    }
   ],
   "source": [
    "\n",
    "pip install pinecone-client"
   ]
  },
  {
   "cell_type": "code",
   "execution_count": 0,
   "metadata": {
    "application/vnd.databricks.v1+cell": {
     "cellMetadata": {
      "byteLimit": 2048000,
      "rowLimit": 10000
     },
     "inputWidgets": {},
     "nuid": "4b2f9cc9-8c37-4df8-aa83-bb9e378bed8b",
     "showTitle": false,
     "title": ""
    },
    "jupyter": {
     "outputs_hidden": true
    }
   },
   "outputs": [
    {
     "output_type": "stream",
     "name": "stdout",
     "output_type": "stream",
     "text": [
      "Python interpreter will be restarted.\nCollecting sentence_transformers\n  Using cached sentence_transformers-3.0.1-py3-none-any.whl (227 kB)\nCollecting torch>=1.11.0\n  Using cached torch-2.3.1-cp39-cp39-manylinux1_x86_64.whl (779.1 MB)\nRequirement already satisfied: numpy in /databricks/python3/lib/python3.9/site-packages (from sentence_transformers) (1.21.5)\nRequirement already satisfied: scipy in /databricks/python3/lib/python3.9/site-packages (from sentence_transformers) (1.7.3)\nCollecting huggingface-hub>=0.15.1\n  Using cached huggingface_hub-0.23.3-py3-none-any.whl (401 kB)\nRequirement already satisfied: Pillow in /databricks/python3/lib/python3.9/site-packages (from sentence_transformers) (9.0.1)\nRequirement already satisfied: scikit-learn in /databricks/python3/lib/python3.9/site-packages (from sentence_transformers) (1.0.2)\nCollecting transformers<5.0.0,>=4.34.0\n  Using cached transformers-4.41.2-py3-none-any.whl (9.1 MB)\nRequirement already satisfied: tqdm in /local_disk0/.ephemeral_nfs/envs/pythonEnv-4b3cc447-5af4-4daa-8831-dd8da2fc7a7d/lib/python3.9/site-packages (from sentence_transformers) (4.66.4)\nCollecting pyyaml>=5.1\n  Using cached PyYAML-6.0.1-cp39-cp39-manylinux_2_17_x86_64.manylinux2014_x86_64.whl (738 kB)\nRequirement already satisfied: typing-extensions>=3.7.4.3 in /databricks/python3/lib/python3.9/site-packages (from huggingface-hub>=0.15.1->sentence_transformers) (4.1.1)\nRequirement already satisfied: filelock in /usr/local/lib/python3.9/dist-packages (from huggingface-hub>=0.15.1->sentence_transformers) (3.9.0)\nCollecting fsspec>=2023.5.0\n  Using cached fsspec-2024.6.0-py3-none-any.whl (176 kB)\nRequirement already satisfied: packaging>=20.9 in /databricks/python3/lib/python3.9/site-packages (from huggingface-hub>=0.15.1->sentence_transformers) (21.3)\nRequirement already satisfied: requests in /databricks/python3/lib/python3.9/site-packages (from huggingface-hub>=0.15.1->sentence_transformers) (2.27.1)\nRequirement already satisfied: pyparsing!=3.0.5,>=2.0.2 in /databricks/python3/lib/python3.9/site-packages (from packaging>=20.9->huggingface-hub>=0.15.1->sentence_transformers) (3.0.4)\nCollecting nvidia-cuda-nvrtc-cu12==12.1.105\n  Using cached nvidia_cuda_nvrtc_cu12-12.1.105-py3-none-manylinux1_x86_64.whl (23.7 MB)\nCollecting nvidia-cudnn-cu12==8.9.2.26\n  Using cached nvidia_cudnn_cu12-8.9.2.26-py3-none-manylinux1_x86_64.whl (731.7 MB)\nCollecting nvidia-nvtx-cu12==12.1.105\n  Using cached nvidia_nvtx_cu12-12.1.105-py3-none-manylinux1_x86_64.whl (99 kB)\nRequirement already satisfied: jinja2 in /databricks/python3/lib/python3.9/site-packages (from torch>=1.11.0->sentence_transformers) (2.11.3)\nCollecting nvidia-cusparse-cu12==12.1.0.106\n  Using cached nvidia_cusparse_cu12-12.1.0.106-py3-none-manylinux1_x86_64.whl (196.0 MB)\nCollecting typing-extensions>=3.7.4.3\n  Using cached typing_extensions-4.12.1-py3-none-any.whl (37 kB)\nCollecting nvidia-cublas-cu12==12.1.3.1\n  Using cached nvidia_cublas_cu12-12.1.3.1-py3-none-manylinux1_x86_64.whl (410.6 MB)\nCollecting nvidia-cufft-cu12==11.0.2.54\n  Using cached nvidia_cufft_cu12-11.0.2.54-py3-none-manylinux1_x86_64.whl (121.6 MB)\nCollecting nvidia-cuda-cupti-cu12==12.1.105\n  Using cached nvidia_cuda_cupti_cu12-12.1.105-py3-none-manylinux1_x86_64.whl (14.1 MB)\nCollecting sympy\n  Using cached sympy-1.12.1-py3-none-any.whl (5.7 MB)\nCollecting nvidia-nccl-cu12==2.20.5\n  Using cached nvidia_nccl_cu12-2.20.5-py3-none-manylinux2014_x86_64.whl (176.2 MB)\nCollecting networkx\n  Using cached networkx-3.2.1-py3-none-any.whl (1.6 MB)\nCollecting nvidia-cusolver-cu12==11.4.5.107\n  Using cached nvidia_cusolver_cu12-11.4.5.107-py3-none-manylinux1_x86_64.whl (124.2 MB)\nCollecting nvidia-curand-cu12==10.3.2.106\n  Using cached nvidia_curand_cu12-10.3.2.106-py3-none-manylinux1_x86_64.whl (56.5 MB)\nCollecting nvidia-cuda-runtime-cu12==12.1.105\n  Using cached nvidia_cuda_runtime_cu12-12.1.105-py3-none-manylinux1_x86_64.whl (823 kB)\nCollecting triton==2.3.1\n  Using cached triton-2.3.1-cp39-cp39-manylinux_2_17_x86_64.manylinux2014_x86_64.whl (168.1 MB)\nCollecting nvidia-nvjitlink-cu12\n  Using cached nvidia_nvjitlink_cu12-12.5.40-py3-none-manylinux2014_x86_64.whl (21.3 MB)\nCollecting tokenizers<0.20,>=0.19\n  Using cached tokenizers-0.19.1-cp39-cp39-manylinux_2_17_x86_64.manylinux2014_x86_64.whl (3.6 MB)\nCollecting regex!=2019.12.17\n  Using cached regex-2024.5.15-cp39-cp39-manylinux_2_17_x86_64.manylinux2014_x86_64.whl (774 kB)\nCollecting safetensors>=0.4.1\n  Using cached safetensors-0.4.3-cp39-cp39-manylinux_2_17_x86_64.manylinux2014_x86_64.whl (1.2 MB)\nRequirement already satisfied: MarkupSafe>=0.23 in /databricks/python3/lib/python3.9/site-packages (from jinja2->torch>=1.11.0->sentence_transformers) (2.0.1)\nRequirement already satisfied: idna<4,>=2.5 in /databricks/python3/lib/python3.9/site-packages (from requests->huggingface-hub>=0.15.1->sentence_transformers) (3.3)\nRequirement already satisfied: charset-normalizer~=2.0.0 in /databricks/python3/lib/python3.9/site-packages (from requests->huggingface-hub>=0.15.1->sentence_transformers) (2.0.4)\nRequirement already satisfied: urllib3<1.27,>=1.21.1 in /databricks/python3/lib/python3.9/site-packages (from requests->huggingface-hub>=0.15.1->sentence_transformers) (1.26.9)\nRequirement already satisfied: certifi>=2017.4.17 in /databricks/python3/lib/python3.9/site-packages (from requests->huggingface-hub>=0.15.1->sentence_transformers) (2021.10.8)\nRequirement already satisfied: threadpoolctl>=2.0.0 in /databricks/python3/lib/python3.9/site-packages (from scikit-learn->sentence_transformers) (2.2.0)\nRequirement already satisfied: joblib>=0.11 in /databricks/python3/lib/python3.9/site-packages (from scikit-learn->sentence_transformers) (1.1.1)\nCollecting mpmath<1.4.0,>=1.1.0\n  Using cached mpmath-1.3.0-py3-none-any.whl (536 kB)\nInstalling collected packages: typing-extensions, pyyaml, nvidia-nvjitlink-cu12, fsspec, nvidia-cusparse-cu12, nvidia-cublas-cu12, mpmath, huggingface-hub, triton, tokenizers, sympy, safetensors, regex, nvidia-nvtx-cu12, nvidia-nccl-cu12, nvidia-cusolver-cu12, nvidia-curand-cu12, nvidia-cufft-cu12, nvidia-cudnn-cu12, nvidia-cuda-runtime-cu12, nvidia-cuda-nvrtc-cu12, nvidia-cuda-cupti-cu12, networkx, transformers, torch, sentence-transformers\n  Attempting uninstall: typing-extensions\n    Found existing installation: typing-extensions 4.1.1\n    Not uninstalling typing-extensions at /databricks/python3/lib/python3.9/site-packages, outside environment /local_disk0/.ephemeral_nfs/envs/pythonEnv-4b3cc447-5af4-4daa-8831-dd8da2fc7a7d\n    Can't uninstall 'typing-extensions'. No files were found to uninstall.\nSuccessfully installed fsspec-2024.6.0 huggingface-hub-0.23.3 mpmath-1.3.0 networkx-3.2.1 nvidia-cublas-cu12-12.1.3.1 nvidia-cuda-cupti-cu12-12.1.105 nvidia-cuda-nvrtc-cu12-12.1.105 nvidia-cuda-runtime-cu12-12.1.105 nvidia-cudnn-cu12-8.9.2.26 nvidia-cufft-cu12-11.0.2.54 nvidia-curand-cu12-10.3.2.106 nvidia-cusolver-cu12-11.4.5.107 nvidia-cusparse-cu12-12.1.0.106 nvidia-nccl-cu12-2.20.5 nvidia-nvjitlink-cu12-12.5.40 nvidia-nvtx-cu12-12.1.105 pyyaml-6.0.1 regex-2024.5.15 safetensors-0.4.3 sentence-transformers-3.0.1 sympy-1.12.1 tokenizers-0.19.1 torch-2.3.1 transformers-4.41.2 triton-2.3.1 typing-extensions-4.12.1\nPython interpreter will be restarted.\n"
     ]
    }
   ],
   "source": [
    "pip install sentence_transformers"
   ]
  },
  {
   "cell_type": "code",
   "execution_count": 0,
   "metadata": {
    "application/vnd.databricks.v1+cell": {
     "cellMetadata": {
      "byteLimit": 2048000,
      "rowLimit": 10000
     },
     "inputWidgets": {},
     "nuid": "cb32a276-8936-4a3b-8372-24353c48c463",
     "showTitle": false,
     "title": ""
    },
    "jupyter": {
     "outputs_hidden": true
    }
   },
   "outputs": [
    {
     "output_type": "stream",
     "name": "stderr",
     "output_type": "stream",
     "text": [
      "/databricks/python_shell/dbruntime/PythonPackageImportsInstrumentation/__init__.py:171: TqdmExperimentalWarning: Using `tqdm.autonotebook.tqdm` in notebook mode. Use `tqdm.tqdm` instead to force console mode (e.g. in jupyter console)\n  original_result = python_builtin_import(name, globals, locals, fromlist, level)\n/local_disk0/.ephemeral_nfs/envs/pythonEnv-4b3cc447-5af4-4daa-8831-dd8da2fc7a7d/lib/python3.9/site-packages/huggingface_hub/file_download.py:1132: FutureWarning: `resume_download` is deprecated and will be removed in version 1.0.0. Downloads always resume when possible. If you want to force a new download, use `force_download=True`.\n  warnings.warn(\n"
     ]
    },
    {
     "output_type": "stream",
     "name": "stdout",
     "output_type": "stream",
     "text": [
      "Out[1]: SentenceTransformer(\n  (0): Transformer({'max_seq_length': 384, 'do_lower_case': False}) with Transformer model: MPNetModel \n  (1): Pooling({'word_embedding_dimension': 768, 'pooling_mode_cls_token': False, 'pooling_mode_mean_tokens': True, 'pooling_mode_max_tokens': False, 'pooling_mode_mean_sqrt_len_tokens': False, 'pooling_mode_weightedmean_tokens': False, 'pooling_mode_lasttoken': False, 'include_prompt': True})\n  (2): Normalize()\n)"
     ]
    }
   ],
   "source": [
    "import torch\n",
    "from sentence_transformers import SentenceTransformer\n",
    "\n",
    "# set device to GPU if available\n",
    "device = 'cuda' if torch.cuda.is_available() else 'cpu'\n",
    "# load the table embedding model from huggingface models hub\n",
    "retriever = SentenceTransformer(\"deepset/all-mpnet-base-v2-table\", device=device)\n",
    "retriever"
   ]
  },
  {
   "cell_type": "code",
   "execution_count": 0,
   "metadata": {
    "application/vnd.databricks.v1+cell": {
     "cellMetadata": {
      "byteLimit": 2048000,
      "rowLimit": 10000
     },
     "inputWidgets": {},
     "nuid": "9934767a-aacf-4064-a7c7-a3b4bb628a37",
     "showTitle": false,
     "title": ""
    },
    "jupyter": {
     "outputs_hidden": true
    }
   },
   "outputs": [
    {
     "output_type": "display_data",
     "data": {
      "application/vnd.databricks.v1+bamboolib_hint": "{\"pd.DataFrames\": [], \"version\": \"0.0.1\"}",
      "text/plain": []
     },
     "metadata": {},
     "output_type": "display_data"
    },
    {
     "output_type": "display_data",
     "data": {
      "text/html": [
       "<div>\n",
       "<style scoped>\n",
       "    .dataframe tbody tr th:only-of-type {\n",
       "        vertical-align: middle;\n",
       "    }\n",
       "\n",
       "    .dataframe tbody tr th {\n",
       "        vertical-align: top;\n",
       "    }\n",
       "\n",
       "    .dataframe thead th {\n",
       "        text-align: right;\n",
       "    }\n",
       "</style>\n",
       "<table border=\"1\" class=\"dataframe\">\n",
       "  <thead>\n",
       "    <tr style=\"text-align: right;\">\n",
       "      <th></th>\n",
       "      <th>ID</th>\n",
       "      <th>Provider</th>\n",
       "      <th>AddressLine1</th>\n",
       "      <th>City</th>\n",
       "      <th>State</th>\n",
       "      <th>PostalCode</th>\n",
       "      <th>Phone1_Type</th>\n",
       "      <th>Phone1_Number</th>\n",
       "      <th>Phone2_Type</th>\n",
       "      <th>Phone2_Number</th>\n",
       "      <th>...</th>\n",
       "      <th>Independent Living</th>\n",
       "      <th>Bridge to Independence</th>\n",
       "      <th>Traumatic Brain Injury / Spinal Cord Injury</th>\n",
       "      <th>Intellectual Disability / Developmental Disability</th>\n",
       "      <th>Private Pay: Credit</th>\n",
       "      <th>Private Pay: Cash</th>\n",
       "      <th>Other</th>\n",
       "      <th>Private Insurance</th>\n",
       "      <th>Medicaid</th>\n",
       "      <th>Private Pay: Check</th>\n",
       "    </tr>\n",
       "  </thead>\n",
       "  <tbody>\n",
       "    <tr>\n",
       "      <th>10</th>\n",
       "      <td>1312</td>\n",
       "      <td>Pioneer Community Hospital*</td>\n",
       "      <td>400 South Chestnut</td>\n",
       "      <td>Aberdeen</td>\n",
       "      <td>MS</td>\n",
       "      <td>39730</td>\n",
       "      <td>Main</td>\n",
       "      <td>6623692455</td>\n",
       "      <td>None</td>\n",
       "      <td>NaN</td>\n",
       "      <td>...</td>\n",
       "      <td>1.0</td>\n",
       "      <td>1.0</td>\n",
       "      <td>1.0</td>\n",
       "      <td>1.0</td>\n",
       "      <td>1.0</td>\n",
       "      <td>1.0</td>\n",
       "      <td>0.0</td>\n",
       "      <td>1.0</td>\n",
       "      <td>1.0</td>\n",
       "      <td>1.0</td>\n",
       "    </tr>\n",
       "    <tr>\n",
       "      <th>11</th>\n",
       "      <td>1314</td>\n",
       "      <td>Pioneer Community Hospital of Aberdeen*</td>\n",
       "      <td>400 South Chestnut Street</td>\n",
       "      <td>Aberdeen</td>\n",
       "      <td>MS</td>\n",
       "      <td>39730</td>\n",
       "      <td>Main</td>\n",
       "      <td>6623602455</td>\n",
       "      <td>None</td>\n",
       "      <td>NaN</td>\n",
       "      <td>...</td>\n",
       "      <td>1.0</td>\n",
       "      <td>0.0</td>\n",
       "      <td>0.0</td>\n",
       "      <td>0.0</td>\n",
       "      <td>0.0</td>\n",
       "      <td>0.0</td>\n",
       "      <td>0.0</td>\n",
       "      <td>0.0</td>\n",
       "      <td>0.0</td>\n",
       "      <td>0.0</td>\n",
       "    </tr>\n",
       "    <tr>\n",
       "      <th>12</th>\n",
       "      <td>1420</td>\n",
       "      <td>Rite Aid Pharmacy #7142</td>\n",
       "      <td>200 Highway 45 North</td>\n",
       "      <td>Aberdeen</td>\n",
       "      <td>MS</td>\n",
       "      <td>39730</td>\n",
       "      <td>Main</td>\n",
       "      <td>6623699311</td>\n",
       "      <td>None</td>\n",
       "      <td>NaN</td>\n",
       "      <td>...</td>\n",
       "      <td>1.0</td>\n",
       "      <td>1.0</td>\n",
       "      <td>1.0</td>\n",
       "      <td>1.0</td>\n",
       "      <td>0.0</td>\n",
       "      <td>0.0</td>\n",
       "      <td>0.0</td>\n",
       "      <td>0.0</td>\n",
       "      <td>0.0</td>\n",
       "      <td>0.0</td>\n",
       "    </tr>\n",
       "    <tr>\n",
       "      <th>13</th>\n",
       "      <td>896</td>\n",
       "      <td>Lift, Incorporated - Monroe County*</td>\n",
       "      <td>211 S Meridian St</td>\n",
       "      <td>Aberdeen,</td>\n",
       "      <td>MS</td>\n",
       "      <td>39730</td>\n",
       "      <td>Main</td>\n",
       "      <td>6623694695</td>\n",
       "      <td>None</td>\n",
       "      <td>NaN</td>\n",
       "      <td>...</td>\n",
       "      <td>1.0</td>\n",
       "      <td>1.0</td>\n",
       "      <td>0.0</td>\n",
       "      <td>0.0</td>\n",
       "      <td>0.0</td>\n",
       "      <td>0.0</td>\n",
       "      <td>0.0</td>\n",
       "      <td>0.0</td>\n",
       "      <td>0.0</td>\n",
       "      <td>0.0</td>\n",
       "    </tr>\n",
       "    <tr>\n",
       "      <th>14</th>\n",
       "      <td>195</td>\n",
       "      <td>Better Living Home Care Agency</td>\n",
       "      <td>119 East Main Street</td>\n",
       "      <td>Ackerman</td>\n",
       "      <td>MS</td>\n",
       "      <td>39735</td>\n",
       "      <td>Main</td>\n",
       "      <td>6625820444</td>\n",
       "      <td>Other</td>\n",
       "      <td>6.627709e+09</td>\n",
       "      <td>...</td>\n",
       "      <td>1.0</td>\n",
       "      <td>1.0</td>\n",
       "      <td>1.0</td>\n",
       "      <td>1.0</td>\n",
       "      <td>0.0</td>\n",
       "      <td>0.0</td>\n",
       "      <td>0.0</td>\n",
       "      <td>0.0</td>\n",
       "      <td>0.0</td>\n",
       "      <td>0.0</td>\n",
       "    </tr>\n",
       "  </tbody>\n",
       "</table>\n",
       "<p>5 rows × 41 columns</p>\n",
       "</div>"
      ]
     },
     "metadata": {
      "application/vnd.databricks.v1+output": {
       "addedWidgets": {},
       "arguments": {},
       "data": "<div>\n<style scoped>\n    .dataframe tbody tr th:only-of-type {\n        vertical-align: middle;\n    }\n\n    .dataframe tbody tr th {\n        vertical-align: top;\n    }\n\n    .dataframe thead th {\n        text-align: right;\n    }\n</style>\n<table border=\"1\" class=\"dataframe\">\n  <thead>\n    <tr style=\"text-align: right;\">\n      <th></th>\n      <th>ID</th>\n      <th>Provider</th>\n      <th>AddressLine1</th>\n      <th>City</th>\n      <th>State</th>\n      <th>PostalCode</th>\n      <th>Phone1_Type</th>\n      <th>Phone1_Number</th>\n      <th>Phone2_Type</th>\n      <th>Phone2_Number</th>\n      <th>...</th>\n      <th>Independent Living</th>\n      <th>Bridge to Independence</th>\n      <th>Traumatic Brain Injury / Spinal Cord Injury</th>\n      <th>Intellectual Disability / Developmental Disability</th>\n      <th>Private Pay: Credit</th>\n      <th>Private Pay: Cash</th>\n      <th>Other</th>\n      <th>Private Insurance</th>\n      <th>Medicaid</th>\n      <th>Private Pay: Check</th>\n    </tr>\n  </thead>\n  <tbody>\n    <tr>\n      <th>10</th>\n      <td>1312</td>\n      <td>Pioneer Community Hospital*</td>\n      <td>400 South Chestnut</td>\n      <td>Aberdeen</td>\n      <td>MS</td>\n      <td>39730</td>\n      <td>Main</td>\n      <td>6623692455</td>\n      <td>None</td>\n      <td>NaN</td>\n      <td>...</td>\n      <td>1.0</td>\n      <td>1.0</td>\n      <td>1.0</td>\n      <td>1.0</td>\n      <td>1.0</td>\n      <td>1.0</td>\n      <td>0.0</td>\n      <td>1.0</td>\n      <td>1.0</td>\n      <td>1.0</td>\n    </tr>\n    <tr>\n      <th>11</th>\n      <td>1314</td>\n      <td>Pioneer Community Hospital of Aberdeen*</td>\n      <td>400 South Chestnut Street</td>\n      <td>Aberdeen</td>\n      <td>MS</td>\n      <td>39730</td>\n      <td>Main</td>\n      <td>6623602455</td>\n      <td>None</td>\n      <td>NaN</td>\n      <td>...</td>\n      <td>1.0</td>\n      <td>0.0</td>\n      <td>0.0</td>\n      <td>0.0</td>\n      <td>0.0</td>\n      <td>0.0</td>\n      <td>0.0</td>\n      <td>0.0</td>\n      <td>0.0</td>\n      <td>0.0</td>\n    </tr>\n    <tr>\n      <th>12</th>\n      <td>1420</td>\n      <td>Rite Aid Pharmacy #7142</td>\n      <td>200 Highway 45 North</td>\n      <td>Aberdeen</td>\n      <td>MS</td>\n      <td>39730</td>\n      <td>Main</td>\n      <td>6623699311</td>\n      <td>None</td>\n      <td>NaN</td>\n      <td>...</td>\n      <td>1.0</td>\n      <td>1.0</td>\n      <td>1.0</td>\n      <td>1.0</td>\n      <td>0.0</td>\n      <td>0.0</td>\n      <td>0.0</td>\n      <td>0.0</td>\n      <td>0.0</td>\n      <td>0.0</td>\n    </tr>\n    <tr>\n      <th>13</th>\n      <td>896</td>\n      <td>Lift, Incorporated - Monroe County*</td>\n      <td>211 S Meridian St</td>\n      <td>Aberdeen,</td>\n      <td>MS</td>\n      <td>39730</td>\n      <td>Main</td>\n      <td>6623694695</td>\n      <td>None</td>\n      <td>NaN</td>\n      <td>...</td>\n      <td>1.0</td>\n      <td>1.0</td>\n      <td>0.0</td>\n      <td>0.0</td>\n      <td>0.0</td>\n      <td>0.0</td>\n      <td>0.0</td>\n      <td>0.0</td>\n      <td>0.0</td>\n      <td>0.0</td>\n    </tr>\n    <tr>\n      <th>14</th>\n      <td>195</td>\n      <td>Better Living Home Care Agency</td>\n      <td>119 East Main Street</td>\n      <td>Ackerman</td>\n      <td>MS</td>\n      <td>39735</td>\n      <td>Main</td>\n      <td>6625820444</td>\n      <td>Other</td>\n      <td>6.627709e+09</td>\n      <td>...</td>\n      <td>1.0</td>\n      <td>1.0</td>\n      <td>1.0</td>\n      <td>1.0</td>\n      <td>0.0</td>\n      <td>0.0</td>\n      <td>0.0</td>\n      <td>0.0</td>\n      <td>0.0</td>\n      <td>0.0</td>\n    </tr>\n  </tbody>\n</table>\n<p>5 rows × 41 columns</p>\n</div>",
       "datasetInfos": [],
       "metadata": {},
       "removedWidgets": [],
       "textData": null,
       "type": "htmlSandbox"
      }
     },
     "output_type": "display_data"
    }
   ],
   "source": [
    "import pandas as pd\n",
    "\n",
    "# Read the CSV file\n",
    "data = sqlContext.sql('select * from `edit_1`')\n",
    "df = data.toPandas()\n",
    "tables = []\n",
    "# Iterate through the DataFrame in chunks of 10 rows\n",
    "chunk_size = 5\n",
    "for start in range(0, len(df), chunk_size):\n",
    "    # Select 10 rows starting from the current index\n",
    "    chunk = df.iloc[start:start+chunk_size]\n",
    "    tables.append(chunk)\n",
    "\n",
    "tables[2]\n"
   ]
  },
  {
   "cell_type": "code",
   "execution_count": 0,
   "metadata": {
    "application/vnd.databricks.v1+cell": {
     "cellMetadata": {
      "byteLimit": 2048000,
      "rowLimit": 10000
     },
     "inputWidgets": {},
     "nuid": "8195f3a2-7632-4195-940e-7ba3a0604cd2",
     "showTitle": false,
     "title": ""
    }
   },
   "outputs": [],
   "source": [
    "#Converting the table to string\n",
    "def _preprocess_tables(tables: list):\n",
    "    processed = []\n",
    "    # loop through all tables\n",
    "    for table in tables:\n",
    "        # convert the table to csv and\n",
    "        processed_table = \"\\n\".join([table.to_csv(index=False)])\n",
    "        # add the processed table to processed list\n",
    "        processed.append(processed_table)\n",
    "    return processed"
   ]
  },
  {
   "cell_type": "code",
   "execution_count": 0,
   "metadata": {
    "application/vnd.databricks.v1+cell": {
     "cellMetadata": {
      "byteLimit": 2048000,
      "rowLimit": 10000
     },
     "inputWidgets": {},
     "nuid": "05325263-ea1a-411e-b954-b74858e15c55",
     "showTitle": false,
     "title": ""
    }
   },
   "outputs": [],
   "source": [
    "# format all the dataframes in the tables list\n",
    "processed_tables = _preprocess_tables(tables)\n"
   ]
  },
  {
   "cell_type": "code",
   "execution_count": 0,
   "metadata": {
    "application/vnd.databricks.v1+cell": {
     "cellMetadata": {
      "byteLimit": 2048000,
      "rowLimit": 10000
     },
     "inputWidgets": {},
     "nuid": "6fc23736-638a-454c-82a9-5f0cef99c0a6",
     "showTitle": false,
     "title": ""
    }
   },
   "outputs": [],
   "source": [
    "from pinecone import Pinecone, ServerlessSpec\n",
    "\n",
    "pc = Pinecone(api_key='8f40c688-6aa2-4215-89ac-a269e9c4c317')\n"
   ]
  },
  {
   "cell_type": "code",
   "execution_count": 0,
   "metadata": {
    "application/vnd.databricks.v1+cell": {
     "cellMetadata": {
      "byteLimit": 2048000,
      "rowLimit": 10000
     },
     "inputWidgets": {},
     "nuid": "ffc3b558-faca-4b3f-8a34-efc1a904d46a",
     "showTitle": false,
     "title": ""
    }
   },
   "outputs": [],
   "source": [
    "# you can choose any name for the index\n",
    "index_name = \"table-qa\"\n",
    "\n",
    "# Check if the table-qa index exists\n",
    "if index_name not in pc.list_indexes().names():\n",
    "    pc.create_index(\n",
    "        name=index_name,\n",
    "        dimension=1024,\n",
    "        metric=\"cosine\",\n",
    "        spec=ServerlessSpec(\n",
    "            cloud='aws',\n",
    "            region='us-east-1'\n",
    "        )\n",
    "    )\n",
    "\n",
    "index = pc.Index(index_name)"
   ]
  },
  {
   "cell_type": "code",
   "execution_count": 0,
   "metadata": {
    "application/vnd.databricks.v1+cell": {
     "cellMetadata": {
      "byteLimit": 2048000,
      "rowLimit": 10000
     },
     "inputWidgets": {},
     "nuid": "7d779088-3fb9-4fa7-bb55-61a96f68077d",
     "showTitle": false,
     "title": ""
    }
   },
   "outputs": [
    {
     "output_type": "display_data",
     "data": {
      "application/vnd.jupyter.widget-view+json": {
       "model_id": "6df998b52c0048adaf3a1c665eb528ef",
       "version_major": 2,
       "version_minor": 0
      },
      "text/plain": [
       "  0%|          | 0/6 [00:00<?, ?it/s]"
      ]
     },
     "metadata": {},
     "output_type": "display_data"
    },
    {
     "output_type": "stream",
     "name": "stdout",
     "output_type": "stream",
     "text": [
      "Out[7]: {'dimension': 768,\n 'index_fullness': 0.0,\n 'namespaces': {'': {'vector_count': 2560}},\n 'total_vector_count': 2560}"
     ]
    }
   ],
   "source": [
    "\n",
    "from tqdm.auto import tqdm\n",
    "\n",
    "# we will use batches of 64\n",
    "batch_size = 64\n",
    "\n",
    "for i in tqdm(range(0, len(processed_tables), batch_size)):\n",
    "    # find end of batch\n",
    "    i_end = min(i+batch_size, len(processed_tables))\n",
    "    # extract batch\n",
    "    batch = processed_tables[i:i_end]\n",
    "    # generate embeddings for batch\n",
    "    emb = retriever.encode(batch).tolist()\n",
    "    # create unique IDs ranging from zero to the total number of tables in the dataset\n",
    "    ids = [f\"{idx}\" for idx in range(i, i_end)]\n",
    "    # add all to upsert list\n",
    "    to_upsert = list(zip(ids, emb))\n",
    "    # upsert/insert these records to pinecone\n",
    "    _ = index.upsert(vectors=to_upsert)\n",
    "\n",
    "# check that we have all vectors in index\n",
    "index.describe_index_stats()\n",
    "     "
   ]
  },
  {
   "cell_type": "code",
   "execution_count": 0,
   "metadata": {
    "application/vnd.databricks.v1+cell": {
     "cellMetadata": {
      "byteLimit": 2048000,
      "rowLimit": 10000
     },
     "inputWidgets": {},
     "nuid": "2b9277b3-b3c1-477a-a903-d38a0df30244",
     "showTitle": false,
     "title": ""
    }
   },
   "outputs": [
    {
     "output_type": "stream",
     "name": "stdout",
     "output_type": "stream",
     "text": [
      "Out[38]: {'matches': [{'id': '102', 'score': 0.650052786, 'values': []}],\n 'namespace': '',\n 'usage': {'read_units': 5}}"
     ]
    }
   ],
   "source": [
    "query = \"What is a Provider in Grenada with housing\"\n",
    "# generate embedding for the query\n",
    "xq = retriever.encode([query]).tolist()\n",
    "# query pinecone index to find the table containing answer to the query\n",
    "result = index.query(vector=xq, top_k=1)\n",
    "result"
   ]
  },
  {
   "cell_type": "code",
   "execution_count": 0,
   "metadata": {
    "application/vnd.databricks.v1+cell": {
     "cellMetadata": {
      "byteLimit": 2048000,
      "rowLimit": 10000
     },
     "inputWidgets": {},
     "nuid": "a868a691-b330-4f60-b2dc-a1c3cb42b95d",
     "showTitle": false,
     "title": ""
    }
   },
   "outputs": [],
   "source": [
    "id = int(result[\"matches\"][0][\"id\"])\n",
    "batch = tables[id].head()"
   ]
  },
  {
   "cell_type": "code",
   "execution_count": 0,
   "metadata": {
    "application/vnd.databricks.v1+cell": {
     "cellMetadata": {
      "byteLimit": 2048000,
      "rowLimit": 10000
     },
     "inputWidgets": {},
     "nuid": "79e73eb6-94e5-41c8-8405-61923f2abb01",
     "showTitle": false,
     "title": ""
    },
    "jupyter": {
     "outputs_hidden": true
    }
   },
   "outputs": [],
   "source": [
    "# Load model directly\n",
    "from transformers import AutoTokenizer, AutoModelForTableQuestionAnswering\n",
    "\n",
    "\n",
    "tokenizer = AutoTokenizer.from_pretrained(\"google/tapas-large-finetuned-wtq\")\n",
    "model = AutoModelForTableQuestionAnswering.from_pretrained(\"google/tapas-large-finetuned-wtq\")\n",
    "model.max_seq_length = 8192"
   ]
  },
  {
   "cell_type": "code",
   "execution_count": 0,
   "metadata": {
    "application/vnd.databricks.v1+cell": {
     "cellMetadata": {
      "byteLimit": 2048000,
      "rowLimit": 10000
     },
     "inputWidgets": {},
     "nuid": "35b434ea-2250-4baa-afb8-157bd7aabca1",
     "showTitle": false,
     "title": ""
    }
   },
   "outputs": [
    {
     "output_type": "display_data",
     "data": {
      "text/html": [
       "<div>\n",
       "<style scoped>\n",
       "    .dataframe tbody tr th:only-of-type {\n",
       "        vertical-align: middle;\n",
       "    }\n",
       "\n",
       "    .dataframe tbody tr th {\n",
       "        vertical-align: top;\n",
       "    }\n",
       "\n",
       "    .dataframe thead th {\n",
       "        text-align: right;\n",
       "    }\n",
       "</style>\n",
       "<table border=\"1\" class=\"dataframe\">\n",
       "  <thead>\n",
       "    <tr style=\"text-align: right;\">\n",
       "      <th></th>\n",
       "      <th>ID</th>\n",
       "      <th>Provider</th>\n",
       "      <th>AddressLine1</th>\n",
       "      <th>City</th>\n",
       "      <th>State</th>\n",
       "      <th>PostalCode</th>\n",
       "      <th>Phone1_Type</th>\n",
       "      <th>Phone1_Number</th>\n",
       "      <th>Phone2_Type</th>\n",
       "      <th>Phone2_Number</th>\n",
       "      <th>...</th>\n",
       "      <th>Independent Living</th>\n",
       "      <th>Bridge to Independence</th>\n",
       "      <th>Traumatic Brain Injury / Spinal Cord Injury</th>\n",
       "      <th>Intellectual Disability / Developmental Disability</th>\n",
       "      <th>Private Pay: Credit</th>\n",
       "      <th>Private Pay: Cash</th>\n",
       "      <th>Other</th>\n",
       "      <th>Private Insurance</th>\n",
       "      <th>Medicaid</th>\n",
       "      <th>Private Pay: Check</th>\n",
       "    </tr>\n",
       "  </thead>\n",
       "  <tbody>\n",
       "    <tr>\n",
       "      <th>0</th>\n",
       "      <td>641</td>\n",
       "      <td>Grenada Living Center*</td>\n",
       "      <td>1940 Grandview Drive</td>\n",
       "      <td>Grenada</td>\n",
       "      <td>MS</td>\n",
       "      <td>38901</td>\n",
       "      <td>Main</td>\n",
       "      <td>6622269554</td>\n",
       "      <td></td>\n",
       "      <td></td>\n",
       "      <td>...</td>\n",
       "      <td>1.0</td>\n",
       "      <td>1.0</td>\n",
       "      <td>1.0</td>\n",
       "      <td>1.0</td>\n",
       "      <td>0.0</td>\n",
       "      <td>0.0</td>\n",
       "      <td>0.0</td>\n",
       "      <td>0.0</td>\n",
       "      <td>0.0</td>\n",
       "      <td>0.0</td>\n",
       "    </tr>\n",
       "    <tr>\n",
       "      <th>1</th>\n",
       "      <td>874</td>\n",
       "      <td>Legacy Hospice of the South - Grenada*</td>\n",
       "      <td>1410 Wooded Drive</td>\n",
       "      <td>Grenada</td>\n",
       "      <td>MS</td>\n",
       "      <td>38901</td>\n",
       "      <td>Main</td>\n",
       "      <td>6622264246</td>\n",
       "      <td>Toll Free Hotline</td>\n",
       "      <td>8772342150.0</td>\n",
       "      <td>...</td>\n",
       "      <td>1.0</td>\n",
       "      <td>1.0</td>\n",
       "      <td>0.0</td>\n",
       "      <td>0.0</td>\n",
       "      <td>0.0</td>\n",
       "      <td>0.0</td>\n",
       "      <td>0.0</td>\n",
       "      <td>1.0</td>\n",
       "      <td>1.0</td>\n",
       "      <td>0.0</td>\n",
       "    </tr>\n",
       "    <tr>\n",
       "      <th>2</th>\n",
       "      <td>642</td>\n",
       "      <td>Grenada Rehabworks</td>\n",
       "      <td>1300 Sunset Drive</td>\n",
       "      <td>Grenada</td>\n",
       "      <td>MS</td>\n",
       "      <td>38901</td>\n",
       "      <td>Main</td>\n",
       "      <td>6622279748</td>\n",
       "      <td>Other</td>\n",
       "      <td>6622279769.0</td>\n",
       "      <td>...</td>\n",
       "      <td>1.0</td>\n",
       "      <td>1.0</td>\n",
       "      <td>1.0</td>\n",
       "      <td>1.0</td>\n",
       "      <td>0.0</td>\n",
       "      <td>0.0</td>\n",
       "      <td>0.0</td>\n",
       "      <td>0.0</td>\n",
       "      <td>0.0</td>\n",
       "      <td>0.0</td>\n",
       "    </tr>\n",
       "    <tr>\n",
       "      <th>3</th>\n",
       "      <td>640</td>\n",
       "      <td>Grenada Lake Medical Center</td>\n",
       "      <td>960 Avent Drive</td>\n",
       "      <td>Grenada</td>\n",
       "      <td>MS</td>\n",
       "      <td>38901</td>\n",
       "      <td>Main</td>\n",
       "      <td>6622277000</td>\n",
       "      <td></td>\n",
       "      <td></td>\n",
       "      <td>...</td>\n",
       "      <td>1.0</td>\n",
       "      <td>1.0</td>\n",
       "      <td>1.0</td>\n",
       "      <td>1.0</td>\n",
       "      <td>1.0</td>\n",
       "      <td>1.0</td>\n",
       "      <td>0.0</td>\n",
       "      <td>1.0</td>\n",
       "      <td>1.0</td>\n",
       "      <td>1.0</td>\n",
       "    </tr>\n",
       "    <tr>\n",
       "      <th>4</th>\n",
       "      <td>870</td>\n",
       "      <td>Legacy Hopsice of the South- Grenada*</td>\n",
       "      <td>1300 Sunset Dr Ste Z,</td>\n",
       "      <td>Grenada</td>\n",
       "      <td>MS</td>\n",
       "      <td>38901</td>\n",
       "      <td>Main</td>\n",
       "      <td>6622264246</td>\n",
       "      <td>Toll Free Hotline</td>\n",
       "      <td>8772342150.0</td>\n",
       "      <td>...</td>\n",
       "      <td>1.0</td>\n",
       "      <td>1.0</td>\n",
       "      <td>0.0</td>\n",
       "      <td>0.0</td>\n",
       "      <td>0.0</td>\n",
       "      <td>0.0</td>\n",
       "      <td>0.0</td>\n",
       "      <td>1.0</td>\n",
       "      <td>1.0</td>\n",
       "      <td>0.0</td>\n",
       "    </tr>\n",
       "  </tbody>\n",
       "</table>\n",
       "<p>5 rows × 41 columns</p>\n",
       "</div>"
      ]
     },
     "metadata": {
      "application/vnd.databricks.v1+output": {
       "addedWidgets": {},
       "arguments": {},
       "data": "<div>\n<style scoped>\n    .dataframe tbody tr th:only-of-type {\n        vertical-align: middle;\n    }\n\n    .dataframe tbody tr th {\n        vertical-align: top;\n    }\n\n    .dataframe thead th {\n        text-align: right;\n    }\n</style>\n<table border=\"1\" class=\"dataframe\">\n  <thead>\n    <tr style=\"text-align: right;\">\n      <th></th>\n      <th>ID</th>\n      <th>Provider</th>\n      <th>AddressLine1</th>\n      <th>City</th>\n      <th>State</th>\n      <th>PostalCode</th>\n      <th>Phone1_Type</th>\n      <th>Phone1_Number</th>\n      <th>Phone2_Type</th>\n      <th>Phone2_Number</th>\n      <th>...</th>\n      <th>Independent Living</th>\n      <th>Bridge to Independence</th>\n      <th>Traumatic Brain Injury / Spinal Cord Injury</th>\n      <th>Intellectual Disability / Developmental Disability</th>\n      <th>Private Pay: Credit</th>\n      <th>Private Pay: Cash</th>\n      <th>Other</th>\n      <th>Private Insurance</th>\n      <th>Medicaid</th>\n      <th>Private Pay: Check</th>\n    </tr>\n  </thead>\n  <tbody>\n    <tr>\n      <th>0</th>\n      <td>641</td>\n      <td>Grenada Living Center*</td>\n      <td>1940 Grandview Drive</td>\n      <td>Grenada</td>\n      <td>MS</td>\n      <td>38901</td>\n      <td>Main</td>\n      <td>6622269554</td>\n      <td></td>\n      <td></td>\n      <td>...</td>\n      <td>1.0</td>\n      <td>1.0</td>\n      <td>1.0</td>\n      <td>1.0</td>\n      <td>0.0</td>\n      <td>0.0</td>\n      <td>0.0</td>\n      <td>0.0</td>\n      <td>0.0</td>\n      <td>0.0</td>\n    </tr>\n    <tr>\n      <th>1</th>\n      <td>874</td>\n      <td>Legacy Hospice of the South - Grenada*</td>\n      <td>1410 Wooded Drive</td>\n      <td>Grenada</td>\n      <td>MS</td>\n      <td>38901</td>\n      <td>Main</td>\n      <td>6622264246</td>\n      <td>Toll Free Hotline</td>\n      <td>8772342150.0</td>\n      <td>...</td>\n      <td>1.0</td>\n      <td>1.0</td>\n      <td>0.0</td>\n      <td>0.0</td>\n      <td>0.0</td>\n      <td>0.0</td>\n      <td>0.0</td>\n      <td>1.0</td>\n      <td>1.0</td>\n      <td>0.0</td>\n    </tr>\n    <tr>\n      <th>2</th>\n      <td>642</td>\n      <td>Grenada Rehabworks</td>\n      <td>1300 Sunset Drive</td>\n      <td>Grenada</td>\n      <td>MS</td>\n      <td>38901</td>\n      <td>Main</td>\n      <td>6622279748</td>\n      <td>Other</td>\n      <td>6622279769.0</td>\n      <td>...</td>\n      <td>1.0</td>\n      <td>1.0</td>\n      <td>1.0</td>\n      <td>1.0</td>\n      <td>0.0</td>\n      <td>0.0</td>\n      <td>0.0</td>\n      <td>0.0</td>\n      <td>0.0</td>\n      <td>0.0</td>\n    </tr>\n    <tr>\n      <th>3</th>\n      <td>640</td>\n      <td>Grenada Lake Medical Center</td>\n      <td>960 Avent Drive</td>\n      <td>Grenada</td>\n      <td>MS</td>\n      <td>38901</td>\n      <td>Main</td>\n      <td>6622277000</td>\n      <td></td>\n      <td></td>\n      <td>...</td>\n      <td>1.0</td>\n      <td>1.0</td>\n      <td>1.0</td>\n      <td>1.0</td>\n      <td>1.0</td>\n      <td>1.0</td>\n      <td>0.0</td>\n      <td>1.0</td>\n      <td>1.0</td>\n      <td>1.0</td>\n    </tr>\n    <tr>\n      <th>4</th>\n      <td>870</td>\n      <td>Legacy Hopsice of the South- Grenada*</td>\n      <td>1300 Sunset Dr Ste Z,</td>\n      <td>Grenada</td>\n      <td>MS</td>\n      <td>38901</td>\n      <td>Main</td>\n      <td>6622264246</td>\n      <td>Toll Free Hotline</td>\n      <td>8772342150.0</td>\n      <td>...</td>\n      <td>1.0</td>\n      <td>1.0</td>\n      <td>0.0</td>\n      <td>0.0</td>\n      <td>0.0</td>\n      <td>0.0</td>\n      <td>0.0</td>\n      <td>1.0</td>\n      <td>1.0</td>\n      <td>0.0</td>\n    </tr>\n  </tbody>\n</table>\n<p>5 rows × 41 columns</p>\n</div>",
       "datasetInfos": [],
       "metadata": {},
       "removedWidgets": [],
       "textData": null,
       "type": "htmlSandbox"
      }
     },
     "output_type": "display_data"
    }
   ],
   "source": [
    "\n",
    "batch.fillna('', inplace=True)\n",
    "batch = batch.sample(frac=1.0, random_state=42, replace=False).reset_index(drop=True).astype(str)\n",
    "batch\n"
   ]
  },
  {
   "cell_type": "code",
   "execution_count": 0,
   "metadata": {
    "application/vnd.databricks.v1+cell": {
     "cellMetadata": {
      "byteLimit": 2048000,
      "rowLimit": 10000
     },
     "inputWidgets": {},
     "nuid": "8c5f7947-551b-461b-970d-fd7052f511c0",
     "showTitle": false,
     "title": ""
    }
   },
   "outputs": [
    {
     "output_type": "stream",
     "name": "stdout",
     "output_type": "stream",
     "text": [
      "Answer: ['Grenada Living Center*']\n"
     ]
    }
   ],
   "source": [
    "# Encode the table and query\n",
    "inputs = tokenizer(table=batch, queries=query, padding=\"max_length\", return_tensors=\"pt\")\n",
    "\n",
    "# Pass the inputs to the model\n",
    "outputs = model(**inputs)\n",
    "\n",
    "# Interpret the logits to get the answer\n",
    "logits = outputs.logits\n",
    "logits_agg = outputs.logits_aggregation\n",
    "\n",
    "# Get the answer from the model's output\n",
    "predicted_answer_coordinates, predicted_aggregation_indices = tokenizer.convert_logits_to_predictions(\n",
    "    inputs,\n",
    "    logits.detach(),\n",
    "    logits_agg.detach()\n",
    ")\n",
    "\n",
    "answers = []\n",
    "for coordinates in predicted_answer_coordinates:\n",
    "    cell_values = []\n",
    "    for coord in coordinates:\n",
    "        try:\n",
    "            cell_values.append(batch.iat[coord])\n",
    "        except IndexError:\n",
    "            print(f\"Index {coord} is out of bounds for the DataFrame with shape {batch.shape}\")\n",
    "            continue\n",
    "    if cell_values:\n",
    "        answers.append(\", \".join(cell_values))\n",
    "\n",
    "print(\"Answer:\", answers)\n"
   ]
  }
 ],
 "metadata": {
  "application/vnd.databricks.v1+notebook": {
   "dashboards": [],
   "environmentMetadata": null,
   "language": "python",
   "notebookMetadata": {
    "pythonIndentUnit": 4
   },
   "notebookName": "Predicting",
   "widgets": {}
  }
 },
 "nbformat": 4,
 "nbformat_minor": 0
}
